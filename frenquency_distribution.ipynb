{
  "nbformat": 4,
  "nbformat_minor": 0,
  "metadata": {
    "colab": {
      "name": "frenquency_distribution.ipynb",
      "provenance": [],
      "authorship_tag": "ABX9TyP57Y99Ki3I4bWm/SbrP29G"
    },
    "kernelspec": {
      "name": "python3",
      "display_name": "Python 3"
    },
    "language_info": {
      "name": "python"
    }
  },
  "cells": [
    {
      "cell_type": "markdown",
      "metadata": {
        "id": "pHnjLHbBbsN2"
      },
      "source": [
        "**Import package **"
      ]
    },
    {
      "cell_type": "code",
      "metadata": {
        "id": "9p67Gu7pbWUn"
      },
      "source": [
        "import numpy as np\n",
        "import matplotlib.pyplot as plt\n",
        "import pandas as pd\n",
        "import seaborn as sns\n",
        "import math"
      ],
      "execution_count": 50,
      "outputs": []
    },
    {
      "cell_type": "code",
      "metadata": {
        "id": "_LcAxIvfcv01"
      },
      "source": [
        "data = np.array([160,165,167,164,160,160,166,160,161,150,152,173,160,155,\n",
        "                 164,168,162,161,168,163,156,155,169,151,170,164,155,152,\n",
        "                 160,163,160,155,157,156,158,158,161,154,161,156,172,153])"
      ],
      "execution_count": 51,
      "outputs": []
    },
    {
      "cell_type": "markdown",
      "metadata": {
        "id": "ozV0VqRgcl-W"
      },
      "source": [
        "Sorted primitive table "
      ]
    },
    {
      "cell_type": "code",
      "metadata": {
        "colab": {
          "base_uri": "https://localhost:8080/"
        },
        "id": "b-P74nolfV40",
        "outputId": "56886c9c-4500-46e9-835c-0682458c049a"
      },
      "source": [
        "data= np.sort(data)\n",
        "data"
      ],
      "execution_count": 53,
      "outputs": [
        {
          "output_type": "execute_result",
          "data": {
            "text/plain": [
              "array([150, 151, 152, 152, 153, 154, 155, 155, 155, 155, 156, 156, 156,\n",
              "       157, 158, 158, 160, 160, 160, 160, 160, 160, 160, 161, 161, 161,\n",
              "       161, 162, 163, 163, 164, 164, 164, 165, 166, 167, 168, 168, 169,\n",
              "       170, 172, 173])"
            ]
          },
          "metadata": {
            "tags": []
          },
          "execution_count": 53
        }
      ]
    },
    {
      "cell_type": "code",
      "metadata": {
        "id": "zRJZjCEmf90L"
      },
      "source": [
        "maxStature = data.max()\n",
        "minStature = data.min()"
      ],
      "execution_count": 54,
      "outputs": []
    },
    {
      "cell_type": "code",
      "metadata": {
        "colab": {
          "base_uri": "https://localhost:8080/"
        },
        "id": "QCFvkTnQg1Hd",
        "outputId": "945ed99c-d5da-4cf0-f7e0-4198e4958512"
      },
      "source": [
        "np.unique(data, return_counts=True)"
      ],
      "execution_count": 55,
      "outputs": [
        {
          "output_type": "execute_result",
          "data": {
            "text/plain": [
              "(array([150, 151, 152, 153, 154, 155, 156, 157, 158, 160, 161, 162, 163,\n",
              "        164, 165, 166, 167, 168, 169, 170, 172, 173]),\n",
              " array([1, 1, 2, 1, 1, 4, 3, 1, 2, 7, 4, 1, 2, 3, 1, 1, 1, 2, 1, 1, 1, 1]))"
            ]
          },
          "metadata": {
            "tags": []
          },
          "execution_count": 55
        }
      ]
    },
    {
      "cell_type": "code",
      "metadata": {
        "colab": {
          "base_uri": "https://localhost:8080/",
          "height": 282
        },
        "id": "BZgAkqt3hrQP",
        "outputId": "1934c208-7a70-4eb1-d270-dbd41ee69d93"
      },
      "source": [
        "plt.bar(data, data)"
      ],
      "execution_count": 56,
      "outputs": [
        {
          "output_type": "execute_result",
          "data": {
            "text/plain": [
              "<BarContainer object of 42 artists>"
            ]
          },
          "metadata": {
            "tags": []
          },
          "execution_count": 56
        },
        {
          "output_type": "display_data",
          "data": {
            "image/png": "[encoded data removed]",
            "text/plain": [
              "<Figure size 432x288 with 1 Axes>"
            ]
          },
          "metadata": {
            "tags": [],
            "needs_background": "light"
          }
        }
      ]
    },
    {
      "cell_type": "markdown",
      "metadata": {
        "id": "7NEOkUXyiSE8"
      },
      "source": [
        "Formula de Sturges i = 1 + 3.3 * np.log10(n)"
      ]
    },
    {
      "cell_type": "code",
      "metadata": {
        "id": "Yx4Jo3xuiRYF"
      },
      "source": [
        " n= len(data)\n",
        " i = 1 + 3.3 * np.log10(n)\n",
        " i = round(i)"
      ],
      "execution_count": 57,
      "outputs": []
    },
    {
      "cell_type": "markdown",
      "metadata": {
        "id": "csg5TJgF0sd7"
      },
      "source": [
        "**Interval Amplitude:**\n",
        "1. h= AA/i\n",
        "2. AA = maxStatura - minStatura"
      ]
    },
    {
      "cell_type": "code",
      "metadata": {
        "colab": {
          "base_uri": "https://localhost:8080/"
        },
        "id": "RIOYnohK1Sq4",
        "outputId": "7cf609a6-756e-4e05-8b58-fa3c11dbebe0"
      },
      "source": [
        "AA = maxStature - minStature\n",
        "AA"
      ],
      "execution_count": 58,
      "outputs": [
        {
          "output_type": "execute_result",
          "data": {
            "text/plain": [
              "23"
            ]
          },
          "metadata": {
            "tags": []
          },
          "execution_count": 58
        }
      ]
    },
    {
      "cell_type": "code",
      "metadata": {
        "id": "8hUusVSe2YNL"
      },
      "source": [
        "h= AA/i\n",
        "h = math.ceil(h)"
      ],
      "execution_count": 59,
      "outputs": []
    },
    {
      "cell_type": "code",
      "metadata": {
        "colab": {
          "base_uri": "https://localhost:8080/"
        },
        "id": "n5ueYsxc24eG",
        "outputId": "a1d04d5d-a846-4237-ebd6-a83a56b22bc8"
      },
      "source": [
        "h"
      ],
      "execution_count": 60,
      "outputs": [
        {
          "output_type": "execute_result",
          "data": {
            "text/plain": [
              "4"
            ]
          },
          "metadata": {
            "tags": []
          },
          "execution_count": 60
        }
      ]
    },
    {
      "cell_type": "markdown",
      "metadata": {
        "id": "Iuccw4V535ws"
      },
      "source": [
        " **Building of the frequency distribution**"
      ]
    },
    {
      "cell_type": "code",
      "metadata": {
        "colab": {
          "base_uri": "https://localhost:8080/"
        },
        "id": "HlSMWavy4CHH",
        "outputId": "44b94bb7-4613-40b2-85aa-dc2aaf564364"
      },
      "source": [
        "interval = np.arange(minStature,maxStature +2,step = h)\n",
        "interval"
      ],
      "execution_count": 61,
      "outputs": [
        {
          "output_type": "execute_result",
          "data": {
            "text/plain": [
              "array([150, 154, 158, 162, 166, 170, 174])"
            ]
          },
          "metadata": {
            "tags": []
          },
          "execution_count": 61
        }
      ]
    },
    {
      "cell_type": "code",
      "metadata": {
        "id": "z6jDIuOFMg3l"
      },
      "source": [
        "frenquency, classes = np.histogram(data, bins=classes)"
      ],
      "execution_count": 62,
      "outputs": []
    },
    {
      "cell_type": "code",
      "metadata": {
        "colab": {
          "base_uri": "https://localhost:8080/"
        },
        "id": "_BjZJVNwX7aQ",
        "outputId": "4ec7f7ed-9b82-4700-bd9e-21138f381e82"
      },
      "source": [
        "frenquency, classes, len(classes)"
      ],
      "execution_count": 63,
      "outputs": [
        {
          "output_type": "execute_result",
          "data": {
            "text/plain": [
              "(array([ 5,  9, 13,  7,  5,  3]),\n",
              " array([150, 154, 158, 162, 166, 170, 174]),\n",
              " 7)"
            ]
          },
          "metadata": {
            "tags": []
          },
          "execution_count": 63
        }
      ]
    },
    {
      "cell_type": "code",
      "metadata": {
        "id": "06MIPaNpaugl",
        "colab": {
          "base_uri": "https://localhost:8080/",
          "height": 265
        },
        "outputId": "ba4eaf39-69f7-42db-d6e5-86c103ae3839"
      },
      "source": [
        "plt.hist(data, bins='rice');"
      ],
      "execution_count": 64,
      "outputs": [
        {
          "output_type": "display_data",
          "data": {
            "image/png": "[encoded data removed]",
            "text/plain": [
              "<Figure size 432x288 with 1 Axes>"
            ]
          },
          "metadata": {
            "tags": [],
            "needs_background": "light"
          }
        }
      ]
    },
    {
      "cell_type": "code",
      "metadata": {
        "colab": {
          "base_uri": "https://localhost:8080/",
          "height": 265
        },
        "id": "LYiqJJxkdagw",
        "outputId": "c06a2942-91fc-4b4b-cd86-695fec678281"
      },
      "source": [
        "plt.hist(data, bins='sturges');"
      ],
      "execution_count": 65,
      "outputs": [
        {
          "output_type": "display_data",
          "data": {
            "image/png": "[encoded data removed]",
            "text/plain": [
              "<Figure size 432x288 with 1 Axes>"
            ]
          },
          "metadata": {
            "tags": [],
            "needs_background": "light"
          }
        }
      ]
    },
    {
      "cell_type": "markdown",
      "metadata": {
        "id": "KesmGsa4hpnM"
      },
      "source": [
        "Frequency distribution in pandas with seabord "
      ]
    },
    {
      "cell_type": "code",
      "metadata": {
        "id": "zqapSuqQgAoq",
        "colab": {
          "base_uri": "https://localhost:8080/",
          "height": 265
        },
        "outputId": "c71b8cc6-9fb8-4a1c-f57e-77fb5c85adf9"
      },
      "source": [
        "dataset = pd.DataFrame({'data': data})\n",
        "dataset.plot.hist();"
      ],
      "execution_count": 68,
      "outputs": [
        {
          "output_type": "display_data",
          "data": {
            "image/png": "[encoded data removed]",
            "text/plain": [
              "<Figure size 432x288 with 1 Axes>"
            ]
          },
          "metadata": {
            "tags": [],
            "needs_background": "light"
          }
        }
      ]
    },
    {
      "cell_type": "code",
      "metadata": {
        "colab": {
          "base_uri": "https://localhost:8080/",
          "height": 369
        },
        "id": "zz1qb_BRjGpB",
        "outputId": "b1ba3d20-0a0e-4a25-eb0e-17fffade021e"
      },
      "source": [
        "sns.displot(dataset);"
      ],
      "execution_count": 69,
      "outputs": [
        {
          "output_type": "display_data",
          "data": {
            "image/png": "[encoded data removed]",
            "text/plain": [
              "<Figure size 418.5x360 with 1 Axes>"
            ]
          },
          "metadata": {
            "tags": [],
            "needs_background": "light"
          }
        }
      ]
    }
  ]
}