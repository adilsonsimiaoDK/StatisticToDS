{
  "nbformat": 4,
  "nbformat_minor": 0,
  "metadata": {
    "colab": {
      "name": "association_apriori.ipynb",
      "provenance": [],
      "authorship_tag": "ABX9TyPbJHTi+jQtu6KHUOlv9LCn",
      "include_colab_link": true
    },
    "kernelspec": {
      "name": "python3",
      "display_name": "Python 3"
    },
    "language_info": {
      "name": "python"
    }
  },
  "cells": [
    {
      "cell_type": "markdown",
      "metadata": {
        "id": "view-in-github",
        "colab_type": "text"
      },
      "source": [
        "<a href=\"https://colab.research.google.com/github/adilsonsimiaoDK/StatisticToDS/blob/main/association_apriori.ipynb\" target=\"_parent\"><img src=\"https://colab.research.google.com/assets/colab-badge.svg\" alt=\"Open In Colab\"/></a>"
      ]
    },
    {
      "cell_type": "markdown",
      "metadata": {
        "id": "ZqG-JRWoYyGJ"
      },
      "source": [
        "suport = number of records with x and y/total number of records: coffee and milk "
      ]
    },
    {
      "cell_type": "markdown",
      "metadata": {
        "id": "xNJeVxyhlNqD"
      },
      "source": [
        "confidence = number of record with x and y/ number total of records. "
      ]
    },
    {
      "cell_type": "code",
      "metadata": {
        "id": "mQ8yVJaMYS0T"
      },
      "source": [
        "import numpy as np\n",
        "import matplotlib.pyplot as plt\n",
        "import pandas as pd\n",
        "import seaborn as sns\n",
        "import math\n",
        "from apyori import apriori"
      ],
      "execution_count": 40,
      "outputs": []
    },
    {
      "cell_type": "code",
      "metadata": {
        "id": "BjBwq9tLZb7p"
      },
      "source": [
        "!pip install apyori"
      ],
      "execution_count": null,
      "outputs": []
    },
    {
      "cell_type": "code",
      "metadata": {
        "id": "kS8kgRSsmwlL"
      },
      "source": [
        "dataset = pd.read_csv('census.csv')"
      ],
      "execution_count": 3,
      "outputs": []
    },
    {
      "cell_type": "code",
      "metadata": {
        "colab": {
          "base_uri": "https://localhost:8080/"
        },
        "id": "0ZA3WAiInTjW",
        "outputId": "95d6c55a-5494-458b-83a8-5c29fb1e6d8e"
      },
      "source": [
        "dataset.age.min(), dataset.age.max()"
      ],
      "execution_count": 4,
      "outputs": [
        {
          "output_type": "execute_result",
          "data": {
            "text/plain": [
              "(17, 90)"
            ]
          },
          "metadata": {
            "tags": []
          },
          "execution_count": 4
        }
      ]
    },
    {
      "cell_type": "code",
      "metadata": {
        "colab": {
          "base_uri": "https://localhost:8080/",
          "height": 282
        },
        "id": "K3dhCG31ninu",
        "outputId": "74d3153c-0d08-4288-b8dd-1854cf3eeb72"
      },
      "source": [
        "dataset.age.plot.hist()"
      ],
      "execution_count": 6,
      "outputs": [
        {
          "output_type": "execute_result",
          "data": {
            "text/plain": [
              "<matplotlib.axes._subplots.AxesSubplot at 0x7fc0f2973310>"
            ]
          },
          "metadata": {
            "tags": []
          },
          "execution_count": 6
        },
        {
          "output_type": "display_data",
          "data": {
            "image/png": "[encoded data removed]",
            "text/plain": [
              "<Figure size 432x288 with 1 Axes>"
            ]
          },
          "metadata": {
            "tags": [],
            "needs_background": "light"
          }
        }
      ]
    },
    {
      "cell_type": "code",
      "metadata": {
        "id": "ZxN7hf0jnySA"
      },
      "source": [
        "dataset.age = pd.cut(dataset.age, bins=[0,17,25,40,60,80], labels=['range1','range2', 'range3', 'range4','range5'])\n"
      ],
      "execution_count": 7,
      "outputs": []
    },
    {
      "cell_type": "code",
      "metadata": {
        "colab": {
          "base_uri": "https://localhost:8080/"
        },
        "id": "UHUK1aOaorzp",
        "outputId": "b527f55c-42a2-4561-e784-aa60e44a0bde"
      },
      "source": [
        "dataset.age.unique()"
      ],
      "execution_count": 9,
      "outputs": [
        {
          "output_type": "execute_result",
          "data": {
            "text/plain": [
              "['range3', 'range4', 'range2', 'range5', 'range1', NaN]\n",
              "Categories (5, object): ['range1' < 'range2' < 'range3' < 'range4' < 'range5']"
            ]
          },
          "metadata": {
            "tags": []
          },
          "execution_count": 9
        }
      ]
    },
    {
      "cell_type": "code",
      "metadata": {
        "colab": {
          "base_uri": "https://localhost:8080/",
          "height": 383
        },
        "id": "tfLjJnu8op4G",
        "outputId": "2aba48f1-8b53-4e37-9224-4bb6f573ab54"
      },
      "source": [
        "dataset.head()"
      ],
      "execution_count": 20,
      "outputs": [
        {
          "output_type": "execute_result",
          "data": {
            "text/html": [
              "<div>\n",
              "<style scoped>\n",
              "    .dataframe tbody tr th:only-of-type {\n",
              "        vertical-align: middle;\n",
              "    }\n",
              "\n",
              "    .dataframe tbody tr th {\n",
              "        vertical-align: top;\n",
              "    }\n",
              "\n",
              "    .dataframe thead th {\n",
              "        text-align: right;\n",
              "    }\n",
              "</style>\n",
              "<table border=\"1\" class=\"dataframe\">\n",
              "  <thead>\n",
              "    <tr style=\"text-align: right;\">\n",
              "      <th></th>\n",
              "      <th>age</th>\n",
              "      <th>workclass</th>\n",
              "      <th>final-weight</th>\n",
              "      <th>education</th>\n",
              "      <th>education-num</th>\n",
              "      <th>marital-status</th>\n",
              "      <th>occupation</th>\n",
              "      <th>relationship</th>\n",
              "      <th>race</th>\n",
              "      <th>sex</th>\n",
              "      <th>capital-gain</th>\n",
              "      <th>capital-loos</th>\n",
              "      <th>hour-per-week</th>\n",
              "      <th>native-country</th>\n",
              "      <th>income</th>\n",
              "    </tr>\n",
              "  </thead>\n",
              "  <tbody>\n",
              "    <tr>\n",
              "      <th>0</th>\n",
              "      <td>range3</td>\n",
              "      <td>State-gov</td>\n",
              "      <td>77516</td>\n",
              "      <td>Bachelors</td>\n",
              "      <td>13</td>\n",
              "      <td>Never-married</td>\n",
              "      <td>Adm-clerical</td>\n",
              "      <td>Not-in-family</td>\n",
              "      <td>White</td>\n",
              "      <td>Male</td>\n",
              "      <td>2174</td>\n",
              "      <td>0</td>\n",
              "      <td>40</td>\n",
              "      <td>United-States</td>\n",
              "      <td>&lt;=50K</td>\n",
              "    </tr>\n",
              "    <tr>\n",
              "      <th>1</th>\n",
              "      <td>range4</td>\n",
              "      <td>Self-emp-not-inc</td>\n",
              "      <td>83311</td>\n",
              "      <td>Bachelors</td>\n",
              "      <td>13</td>\n",
              "      <td>Married-civ-spouse</td>\n",
              "      <td>Exec-managerial</td>\n",
              "      <td>Husband</td>\n",
              "      <td>White</td>\n",
              "      <td>Male</td>\n",
              "      <td>0</td>\n",
              "      <td>0</td>\n",
              "      <td>13</td>\n",
              "      <td>United-States</td>\n",
              "      <td>&lt;=50K</td>\n",
              "    </tr>\n",
              "    <tr>\n",
              "      <th>2</th>\n",
              "      <td>range3</td>\n",
              "      <td>Private</td>\n",
              "      <td>215646</td>\n",
              "      <td>HS-grad</td>\n",
              "      <td>9</td>\n",
              "      <td>Divorced</td>\n",
              "      <td>Handlers-cleaners</td>\n",
              "      <td>Not-in-family</td>\n",
              "      <td>White</td>\n",
              "      <td>Male</td>\n",
              "      <td>0</td>\n",
              "      <td>0</td>\n",
              "      <td>40</td>\n",
              "      <td>United-States</td>\n",
              "      <td>&lt;=50K</td>\n",
              "    </tr>\n",
              "    <tr>\n",
              "      <th>3</th>\n",
              "      <td>range4</td>\n",
              "      <td>Private</td>\n",
              "      <td>234721</td>\n",
              "      <td>11th</td>\n",
              "      <td>7</td>\n",
              "      <td>Married-civ-spouse</td>\n",
              "      <td>Handlers-cleaners</td>\n",
              "      <td>Husband</td>\n",
              "      <td>Black</td>\n",
              "      <td>Male</td>\n",
              "      <td>0</td>\n",
              "      <td>0</td>\n",
              "      <td>40</td>\n",
              "      <td>United-States</td>\n",
              "      <td>&lt;=50K</td>\n",
              "    </tr>\n",
              "    <tr>\n",
              "      <th>4</th>\n",
              "      <td>range3</td>\n",
              "      <td>Private</td>\n",
              "      <td>338409</td>\n",
              "      <td>Bachelors</td>\n",
              "      <td>13</td>\n",
              "      <td>Married-civ-spouse</td>\n",
              "      <td>Prof-specialty</td>\n",
              "      <td>Wife</td>\n",
              "      <td>Black</td>\n",
              "      <td>Female</td>\n",
              "      <td>0</td>\n",
              "      <td>0</td>\n",
              "      <td>40</td>\n",
              "      <td>Cuba</td>\n",
              "      <td>&lt;=50K</td>\n",
              "    </tr>\n",
              "  </tbody>\n",
              "</table>\n",
              "</div>"
            ],
            "text/plain": [
              "      age          workclass  ...  native-country  income\n",
              "0  range3          State-gov  ...   United-States   <=50K\n",
              "1  range4   Self-emp-not-inc  ...   United-States   <=50K\n",
              "2  range3            Private  ...   United-States   <=50K\n",
              "3  range4            Private  ...   United-States   <=50K\n",
              "4  range3            Private  ...            Cuba   <=50K\n",
              "\n",
              "[5 rows x 15 columns]"
            ]
          },
          "metadata": {
            "tags": []
          },
          "execution_count": 20
        }
      ]
    },
    {
      "cell_type": "code",
      "metadata": {
        "id": "QxuMN2q1pixR"
      },
      "source": [
        "dataset_apriori = dataset[['age', 'workclass', 'education', 'marital-status', 'occupation', 'relationship', 'race', 'sex','native-country', 'income']]"
      ],
      "execution_count": 21,
      "outputs": []
    },
    {
      "cell_type": "code",
      "metadata": {
        "colab": {
          "base_uri": "https://localhost:8080/",
          "height": 195
        },
        "id": "Gw7jtEzmq1JT",
        "outputId": "3d0bbc53-ae81-494e-f71a-5a2a648ff11c"
      },
      "source": [
        "dataset_apriori.head()"
      ],
      "execution_count": 22,
      "outputs": [
        {
          "output_type": "execute_result",
          "data": {
            "text/html": [
              "<div>\n",
              "<style scoped>\n",
              "    .dataframe tbody tr th:only-of-type {\n",
              "        vertical-align: middle;\n",
              "    }\n",
              "\n",
              "    .dataframe tbody tr th {\n",
              "        vertical-align: top;\n",
              "    }\n",
              "\n",
              "    .dataframe thead th {\n",
              "        text-align: right;\n",
              "    }\n",
              "</style>\n",
              "<table border=\"1\" class=\"dataframe\">\n",
              "  <thead>\n",
              "    <tr style=\"text-align: right;\">\n",
              "      <th></th>\n",
              "      <th>age</th>\n",
              "      <th>workclass</th>\n",
              "      <th>education</th>\n",
              "      <th>marital-status</th>\n",
              "      <th>occupation</th>\n",
              "      <th>relationship</th>\n",
              "      <th>race</th>\n",
              "      <th>sex</th>\n",
              "      <th>native-country</th>\n",
              "      <th>income</th>\n",
              "    </tr>\n",
              "  </thead>\n",
              "  <tbody>\n",
              "    <tr>\n",
              "      <th>0</th>\n",
              "      <td>range3</td>\n",
              "      <td>State-gov</td>\n",
              "      <td>Bachelors</td>\n",
              "      <td>Never-married</td>\n",
              "      <td>Adm-clerical</td>\n",
              "      <td>Not-in-family</td>\n",
              "      <td>White</td>\n",
              "      <td>Male</td>\n",
              "      <td>United-States</td>\n",
              "      <td>&lt;=50K</td>\n",
              "    </tr>\n",
              "    <tr>\n",
              "      <th>1</th>\n",
              "      <td>range4</td>\n",
              "      <td>Self-emp-not-inc</td>\n",
              "      <td>Bachelors</td>\n",
              "      <td>Married-civ-spouse</td>\n",
              "      <td>Exec-managerial</td>\n",
              "      <td>Husband</td>\n",
              "      <td>White</td>\n",
              "      <td>Male</td>\n",
              "      <td>United-States</td>\n",
              "      <td>&lt;=50K</td>\n",
              "    </tr>\n",
              "    <tr>\n",
              "      <th>2</th>\n",
              "      <td>range3</td>\n",
              "      <td>Private</td>\n",
              "      <td>HS-grad</td>\n",
              "      <td>Divorced</td>\n",
              "      <td>Handlers-cleaners</td>\n",
              "      <td>Not-in-family</td>\n",
              "      <td>White</td>\n",
              "      <td>Male</td>\n",
              "      <td>United-States</td>\n",
              "      <td>&lt;=50K</td>\n",
              "    </tr>\n",
              "    <tr>\n",
              "      <th>3</th>\n",
              "      <td>range4</td>\n",
              "      <td>Private</td>\n",
              "      <td>11th</td>\n",
              "      <td>Married-civ-spouse</td>\n",
              "      <td>Handlers-cleaners</td>\n",
              "      <td>Husband</td>\n",
              "      <td>Black</td>\n",
              "      <td>Male</td>\n",
              "      <td>United-States</td>\n",
              "      <td>&lt;=50K</td>\n",
              "    </tr>\n",
              "    <tr>\n",
              "      <th>4</th>\n",
              "      <td>range3</td>\n",
              "      <td>Private</td>\n",
              "      <td>Bachelors</td>\n",
              "      <td>Married-civ-spouse</td>\n",
              "      <td>Prof-specialty</td>\n",
              "      <td>Wife</td>\n",
              "      <td>Black</td>\n",
              "      <td>Female</td>\n",
              "      <td>Cuba</td>\n",
              "      <td>&lt;=50K</td>\n",
              "    </tr>\n",
              "  </tbody>\n",
              "</table>\n",
              "</div>"
            ],
            "text/plain": [
              "      age          workclass   education  ...      sex  native-country  income\n",
              "0  range3          State-gov   Bachelors  ...     Male   United-States   <=50K\n",
              "1  range4   Self-emp-not-inc   Bachelors  ...     Male   United-States   <=50K\n",
              "2  range3            Private     HS-grad  ...     Male   United-States   <=50K\n",
              "3  range4            Private        11th  ...     Male   United-States   <=50K\n",
              "4  range3            Private   Bachelors  ...   Female            Cuba   <=50K\n",
              "\n",
              "[5 rows x 10 columns]"
            ]
          },
          "metadata": {
            "tags": []
          },
          "execution_count": 22
        }
      ]
    },
    {
      "cell_type": "code",
      "metadata": {
        "id": "FRQlrEK1q6SA"
      },
      "source": [
        "dataset_apriori = dataset_apriori.sample(n=1000 )"
      ],
      "execution_count": 23,
      "outputs": []
    },
    {
      "cell_type": "code",
      "metadata": {
        "id": "nQuXiRigtZi5"
      },
      "source": [
        ""
      ],
      "execution_count": 24,
      "outputs": []
    },
    {
      "cell_type": "code",
      "metadata": {
        "id": "xMfTALP1slmx"
      },
      "source": [
        "transactions = []\n",
        "for i in range(dataset_apriori.shape[0]):\n",
        "  transactions.append([str(dataset_apriori.values[i,j])for j in range(dataset_apriori.shape[1])])\n",
        "\n"
      ],
      "execution_count": 35,
      "outputs": []
    },
    {
      "cell_type": "code",
      "metadata": {
        "colab": {
          "base_uri": "https://localhost:8080/"
        },
        "id": "N83auGpEtzcK",
        "outputId": "2ef7f78e-0908-42c8-e1e7-2358628dc07d"
      },
      "source": [
        "len(transactions) "
      ],
      "execution_count": 36,
      "outputs": [
        {
          "output_type": "execute_result",
          "data": {
            "text/plain": [
              "1000"
            ]
          },
          "metadata": {
            "tags": []
          },
          "execution_count": 36
        }
      ]
    },
    {
      "cell_type": "code",
      "metadata": {
        "colab": {
          "base_uri": "https://localhost:8080/"
        },
        "id": "WYzsvrtCvzj3",
        "outputId": "1fc04ae3-c663-4ed7-ebfb-4d8eee7444dd"
      },
      "source": [
        "transactions[:2]"
      ],
      "execution_count": 37,
      "outputs": [
        {
          "output_type": "execute_result",
          "data": {
            "text/plain": [
              "[['range4',\n",
              "  ' Self-emp-not-inc',\n",
              "  ' 7th-8th',\n",
              "  ' Divorced',\n",
              "  ' Transport-moving',\n",
              "  ' Not-in-family',\n",
              "  ' White',\n",
              "  ' Male',\n",
              "  ' Cuba',\n",
              "  ' <=50K'],\n",
              " ['range3',\n",
              "  ' Private',\n",
              "  ' Assoc-acdm',\n",
              "  ' Divorced',\n",
              "  ' Adm-clerical',\n",
              "  ' Unmarried',\n",
              "  ' White',\n",
              "  ' Female',\n",
              "  ' Poland',\n",
              "  ' <=50K']]"
            ]
          },
          "metadata": {
            "tags": []
          },
          "execution_count": 37
        }
      ]
    },
    {
      "cell_type": "code",
      "metadata": {
        "id": "OWJwxm-qXjQS"
      },
      "source": [
        "rules =apriori(transactions, min_support = 0.3, min_confidence = 0.2)\n",
        "result = list(rules)"
      ],
      "execution_count": 43,
      "outputs": []
    },
    {
      "cell_type": "code",
      "metadata": {
        "colab": {
          "base_uri": "https://localhost:8080/"
        },
        "id": "GbZMnK6jakUK",
        "outputId": "52716259-abff-48f7-c5b2-7fd605fe1069"
      },
      "source": [
        "result"
      ],
      "execution_count": 44,
      "outputs": [
        {
          "output_type": "execute_result",
          "data": {
            "text/plain": [
              "[RelationRecord(items=frozenset({' <=50K'}), support=0.761, ordered_statistics=[OrderedStatistic(items_base=frozenset(), items_add=frozenset({' <=50K'}), confidence=0.761, lift=1.0)]),\n",
              " RelationRecord(items=frozenset({' Female'}), support=0.334, ordered_statistics=[OrderedStatistic(items_base=frozenset(), items_add=frozenset({' Female'}), confidence=0.334, lift=1.0)]),\n",
              " RelationRecord(items=frozenset({' HS-grad'}), support=0.334, ordered_statistics=[OrderedStatistic(items_base=frozenset(), items_add=frozenset({' HS-grad'}), confidence=0.334, lift=1.0)]),\n",
              " RelationRecord(items=frozenset({' Husband'}), support=0.395, ordered_statistics=[OrderedStatistic(items_base=frozenset(), items_add=frozenset({' Husband'}), confidence=0.395, lift=1.0)]),\n",
              " RelationRecord(items=frozenset({' Male'}), support=0.666, ordered_statistics=[OrderedStatistic(items_base=frozenset(), items_add=frozenset({' Male'}), confidence=0.666, lift=1.0)]),\n",
              " RelationRecord(items=frozenset({' Married-civ-spouse'}), support=0.447, ordered_statistics=[OrderedStatistic(items_base=frozenset(), items_add=frozenset({' Married-civ-spouse'}), confidence=0.447, lift=1.0)]),\n",
              " RelationRecord(items=frozenset({' Never-married'}), support=0.33, ordered_statistics=[OrderedStatistic(items_base=frozenset(), items_add=frozenset({' Never-married'}), confidence=0.33, lift=1.0)]),\n",
              " RelationRecord(items=frozenset({' Private'}), support=0.698, ordered_statistics=[OrderedStatistic(items_base=frozenset(), items_add=frozenset({' Private'}), confidence=0.698, lift=1.0)]),\n",
              " RelationRecord(items=frozenset({' United-States'}), support=0.905, ordered_statistics=[OrderedStatistic(items_base=frozenset(), items_add=frozenset({' United-States'}), confidence=0.905, lift=1.0)]),\n",
              " RelationRecord(items=frozenset({' White'}), support=0.858, ordered_statistics=[OrderedStatistic(items_base=frozenset(), items_add=frozenset({' White'}), confidence=0.858, lift=1.0)]),\n",
              " RelationRecord(items=frozenset({'range3'}), support=0.381, ordered_statistics=[OrderedStatistic(items_base=frozenset(), items_add=frozenset({'range3'}), confidence=0.381, lift=1.0)]),\n",
              " RelationRecord(items=frozenset({'range4'}), support=0.352, ordered_statistics=[OrderedStatistic(items_base=frozenset(), items_add=frozenset({'range4'}), confidence=0.352, lift=1.0)]),\n",
              " RelationRecord(items=frozenset({' Male', ' <=50K'}), support=0.464, ordered_statistics=[OrderedStatistic(items_base=frozenset(), items_add=frozenset({' Male', ' <=50K'}), confidence=0.464, lift=1.0), OrderedStatistic(items_base=frozenset({' <=50K'}), items_add=frozenset({' Male'}), confidence=0.6097240473061761, lift=0.915501572531796), OrderedStatistic(items_base=frozenset({' Male'}), items_add=frozenset({' <=50K'}), confidence=0.6966966966966966, lift=0.9155015725317959)]),\n",
              " RelationRecord(items=frozenset({' Never-married', ' <=50K'}), support=0.316, ordered_statistics=[OrderedStatistic(items_base=frozenset(), items_add=frozenset({' <=50K', ' Never-married'}), confidence=0.316, lift=1.0), OrderedStatistic(items_base=frozenset({' <=50K'}), items_add=frozenset({' Never-married'}), confidence=0.4152431011826544, lift=1.2583124278262254), OrderedStatistic(items_base=frozenset({' Never-married'}), items_add=frozenset({' <=50K'}), confidence=0.9575757575757575, lift=1.2583124278262254)]),\n",
              " RelationRecord(items=frozenset({' Private', ' <=50K'}), support=0.552, ordered_statistics=[OrderedStatistic(items_base=frozenset(), items_add=frozenset({' Private', ' <=50K'}), confidence=0.552, lift=1.0), OrderedStatistic(items_base=frozenset({' <=50K'}), items_add=frozenset({' Private'}), confidence=0.7253613666228647, lift=1.0391996656488034), OrderedStatistic(items_base=frozenset({' Private'}), items_add=frozenset({' <=50K'}), confidence=0.7908309455587393, lift=1.0391996656488034)]),\n",
              " RelationRecord(items=frozenset({' United-States', ' <=50K'}), support=0.684, ordered_statistics=[OrderedStatistic(items_base=frozenset(), items_add=frozenset({' United-States', ' <=50K'}), confidence=0.684, lift=1.0), OrderedStatistic(items_base=frozenset({' <=50K'}), items_add=frozenset({' United-States'}), confidence=0.8988173455978976, lift=0.9931683376772349), OrderedStatistic(items_base=frozenset({' United-States'}), items_add=frozenset({' <=50K'}), confidence=0.7558011049723757, lift=0.9931683376772349)]),\n",
              " RelationRecord(items=frozenset({' White', ' <=50K'}), support=0.642, ordered_statistics=[OrderedStatistic(items_base=frozenset(), items_add=frozenset({' White', ' <=50K'}), confidence=0.642, lift=1.0), OrderedStatistic(items_base=frozenset({' <=50K'}), items_add=frozenset({' White'}), confidence=0.8436268068331143, lift=0.9832480266120214), OrderedStatistic(items_base=frozenset({' White'}), items_add=frozenset({' <=50K'}), confidence=0.7482517482517482, lift=0.9832480266120213)]),\n",
              " RelationRecord(items=frozenset({' Female', ' United-States'}), support=0.305, ordered_statistics=[OrderedStatistic(items_base=frozenset(), items_add=frozenset({' Female', ' United-States'}), confidence=0.305, lift=1.0), OrderedStatistic(items_base=frozenset({' Female'}), items_add=frozenset({' United-States'}), confidence=0.9131736526946107, lift=1.0090316604360339), OrderedStatistic(items_base=frozenset({' United-States'}), items_add=frozenset({' Female'}), confidence=0.33701657458563533, lift=1.0090316604360339)]),\n",
              " RelationRecord(items=frozenset({' HS-grad', ' United-States'}), support=0.316, ordered_statistics=[OrderedStatistic(items_base=frozenset(), items_add=frozenset({' HS-grad', ' United-States'}), confidence=0.316, lift=1.0), OrderedStatistic(items_base=frozenset({' HS-grad'}), items_add=frozenset({' United-States'}), confidence=0.9461077844311376, lift=1.0454229662222514), OrderedStatistic(items_base=frozenset({' United-States'}), items_add=frozenset({' HS-grad'}), confidence=0.34917127071823206, lift=1.0454229662222516)]),\n",
              " RelationRecord(items=frozenset({' Husband', ' Male'}), support=0.395, ordered_statistics=[OrderedStatistic(items_base=frozenset(), items_add=frozenset({' Husband', ' Male'}), confidence=0.395, lift=1.0), OrderedStatistic(items_base=frozenset({' Husband'}), items_add=frozenset({' Male'}), confidence=1.0, lift=1.5015015015015014), OrderedStatistic(items_base=frozenset({' Male'}), items_add=frozenset({' Husband'}), confidence=0.5930930930930931, lift=1.5015015015015014)]),\n",
              " RelationRecord(items=frozenset({' Husband', ' Married-civ-spouse'}), support=0.395, ordered_statistics=[OrderedStatistic(items_base=frozenset(), items_add=frozenset({' Husband', ' Married-civ-spouse'}), confidence=0.395, lift=1.0), OrderedStatistic(items_base=frozenset({' Husband'}), items_add=frozenset({' Married-civ-spouse'}), confidence=1.0, lift=2.237136465324385), OrderedStatistic(items_base=frozenset({' Married-civ-spouse'}), items_add=frozenset({' Husband'}), confidence=0.883668903803132, lift=2.237136465324385)]),\n",
              " RelationRecord(items=frozenset({' Husband', ' United-States'}), support=0.362, ordered_statistics=[OrderedStatistic(items_base=frozenset(), items_add=frozenset({' Husband', ' United-States'}), confidence=0.362, lift=1.0), OrderedStatistic(items_base=frozenset({' Husband'}), items_add=frozenset({' United-States'}), confidence=0.9164556962025315, lift=1.0126582278481011), OrderedStatistic(items_base=frozenset({' United-States'}), items_add=frozenset({' Husband'}), confidence=0.39999999999999997, lift=1.0126582278481011)]),\n",
              " RelationRecord(items=frozenset({' Husband', ' White'}), support=0.353, ordered_statistics=[OrderedStatistic(items_base=frozenset(), items_add=frozenset({' Husband', ' White'}), confidence=0.353, lift=1.0), OrderedStatistic(items_base=frozenset({' Husband'}), items_add=frozenset({' White'}), confidence=0.8936708860759492, lift=1.0415744592959781), OrderedStatistic(items_base=frozenset({' White'}), items_add=frozenset({' Husband'}), confidence=0.4114219114219114, lift=1.0415744592959781)]),\n",
              " RelationRecord(items=frozenset({' Male', ' Married-civ-spouse'}), support=0.4, ordered_statistics=[OrderedStatistic(items_base=frozenset(), items_add=frozenset({' Male', ' Married-civ-spouse'}), confidence=0.4, lift=1.0), OrderedStatistic(items_base=frozenset({' Male'}), items_add=frozenset({' Married-civ-spouse'}), confidence=0.6006006006006006, lift=1.3436255046993302), OrderedStatistic(items_base=frozenset({' Married-civ-spouse'}), items_add=frozenset({' Male'}), confidence=0.894854586129754, lift=1.3436255046993302)]),\n",
              " RelationRecord(items=frozenset({' Male', ' Private'}), support=0.463, ordered_statistics=[OrderedStatistic(items_base=frozenset(), items_add=frozenset({' Male', ' Private'}), confidence=0.463, lift=1.0), OrderedStatistic(items_base=frozenset({' Male'}), items_add=frozenset({' Private'}), confidence=0.6951951951951952, lift=0.9959816550074431), OrderedStatistic(items_base=frozenset({' Private'}), items_add=frozenset({' Male'}), confidence=0.6633237822349571, lift=0.9959816550074431)]),\n",
              " RelationRecord(items=frozenset({' Male', ' United-States'}), support=0.6, ordered_statistics=[OrderedStatistic(items_base=frozenset(), items_add=frozenset({' Male', ' United-States'}), confidence=0.6, lift=1.0), OrderedStatistic(items_base=frozenset({' Male'}), items_add=frozenset({' United-States'}), confidence=0.9009009009009008, lift=0.9954706087302772), OrderedStatistic(items_base=frozenset({' United-States'}), items_add=frozenset({' Male'}), confidence=0.6629834254143646, lift=0.9954706087302772)]),\n",
              " RelationRecord(items=frozenset({' Male', ' White'}), support=0.587, ordered_statistics=[OrderedStatistic(items_base=frozenset(), items_add=frozenset({' Male', ' White'}), confidence=0.587, lift=1.0), OrderedStatistic(items_base=frozenset({' Male'}), items_add=frozenset({' White'}), confidence=0.8813813813813813, lift=1.0272510272510271), OrderedStatistic(items_base=frozenset({' White'}), items_add=frozenset({' Male'}), confidence=0.6841491841491841, lift=1.0272510272510271)]),\n",
              " RelationRecord(items=frozenset({' Married-civ-spouse', ' United-States'}), support=0.405, ordered_statistics=[OrderedStatistic(items_base=frozenset(), items_add=frozenset({' Married-civ-spouse', ' United-States'}), confidence=0.405, lift=1.0), OrderedStatistic(items_base=frozenset({' Married-civ-spouse'}), items_add=frozenset({' United-States'}), confidence=0.9060402684563759, lift=1.0011494679075976), OrderedStatistic(items_base=frozenset({' United-States'}), items_add=frozenset({' Married-civ-spouse'}), confidence=0.44751381215469616, lift=1.0011494679075976)]),\n",
              " RelationRecord(items=frozenset({' Married-civ-spouse', ' White'}), support=0.399, ordered_statistics=[OrderedStatistic(items_base=frozenset(), items_add=frozenset({' Married-civ-spouse', ' White'}), confidence=0.399, lift=1.0), OrderedStatistic(items_base=frozenset({' Married-civ-spouse'}), items_add=frozenset({' White'}), confidence=0.8926174496644296, lift=1.0403466779305706), OrderedStatistic(items_base=frozenset({' White'}), items_add=frozenset({' Married-civ-spouse'}), confidence=0.46503496503496505, lift=1.0403466779305706)]),\n",
              " RelationRecord(items=frozenset({' United-States', ' Never-married'}), support=0.3, ordered_statistics=[OrderedStatistic(items_base=frozenset(), items_add=frozenset({' United-States', ' Never-married'}), confidence=0.3, lift=1.0), OrderedStatistic(items_base=frozenset({' Never-married'}), items_add=frozenset({' United-States'}), confidence=0.9090909090909091, lift=1.0045203415369162), OrderedStatistic(items_base=frozenset({' United-States'}), items_add=frozenset({' Never-married'}), confidence=0.3314917127071823, lift=1.004520341536916)]),\n",
              " RelationRecord(items=frozenset({' United-States', ' Private'}), support=0.627, ordered_statistics=[OrderedStatistic(items_base=frozenset(), items_add=frozenset({' United-States', ' Private'}), confidence=0.627, lift=1.0), OrderedStatistic(items_base=frozenset({' Private'}), items_add=frozenset({' United-States'}), confidence=0.8982808022922637, lift=0.9925754721461477), OrderedStatistic(items_base=frozenset({' United-States'}), items_add=frozenset({' Private'}), confidence=0.692817679558011, lift=0.9925754721461476)]),\n",
              " RelationRecord(items=frozenset({' White', ' Private'}), support=0.611, ordered_statistics=[OrderedStatistic(items_base=frozenset(), items_add=frozenset({' White', ' Private'}), confidence=0.611, lift=1.0), OrderedStatistic(items_base=frozenset({' Private'}), items_add=frozenset({' White'}), confidence=0.8753581661891118, lift=1.0202309629243727), OrderedStatistic(items_base=frozenset({' White'}), items_add=frozenset({' Private'}), confidence=0.7121212121212122, lift=1.0202309629243729)]),\n",
              " RelationRecord(items=frozenset({' United-States', ' White'}), support=0.796, ordered_statistics=[OrderedStatistic(items_base=frozenset(), items_add=frozenset({' United-States', ' White'}), confidence=0.796, lift=1.0), OrderedStatistic(items_base=frozenset({' United-States'}), items_add=frozenset({' White'}), confidence=0.8795580110497238, lift=1.02512588700434), OrderedStatistic(items_base=frozenset({' White'}), items_add=frozenset({' United-States'}), confidence=0.9277389277389279, lift=1.02512588700434)]),\n",
              " RelationRecord(items=frozenset({' United-States', 'range3'}), support=0.34, ordered_statistics=[OrderedStatistic(items_base=frozenset(), items_add=frozenset({' United-States', 'range3'}), confidence=0.34, lift=1.0), OrderedStatistic(items_base=frozenset({' United-States'}), items_add=frozenset({'range3'}), confidence=0.37569060773480667, lift=0.9860645872304636), OrderedStatistic(items_base=frozenset({'range3'}), items_add=frozenset({' United-States'}), confidence=0.8923884514435696, lift=0.9860645872304636)]),\n",
              " RelationRecord(items=frozenset({'range4', ' United-States'}), support=0.325, ordered_statistics=[OrderedStatistic(items_base=frozenset(), items_add=frozenset({'range4', ' United-States'}), confidence=0.325, lift=1.0), OrderedStatistic(items_base=frozenset({' United-States'}), items_add=frozenset({'range4'}), confidence=0.35911602209944754, lift=1.0202159718734305), OrderedStatistic(items_base=frozenset({'range4'}), items_add=frozenset({' United-States'}), confidence=0.9232954545454546, lift=1.0202159718734305)]),\n",
              " RelationRecord(items=frozenset({'range3', ' White'}), support=0.314, ordered_statistics=[OrderedStatistic(items_base=frozenset(), items_add=frozenset({' White', 'range3'}), confidence=0.314, lift=1.0), OrderedStatistic(items_base=frozenset({' White'}), items_add=frozenset({'range3'}), confidence=0.36596736596736595, lift=0.9605442676308817), OrderedStatistic(items_base=frozenset({'range3'}), items_add=frozenset({' White'}), confidence=0.8241469816272966, lift=0.9605442676308819)]),\n",
              " RelationRecord(items=frozenset({'range4', ' White'}), support=0.309, ordered_statistics=[OrderedStatistic(items_base=frozenset(), items_add=frozenset({'range4', ' White'}), confidence=0.309, lift=1.0), OrderedStatistic(items_base=frozenset({' White'}), items_add=frozenset({'range4'}), confidence=0.36013986013986016, lift=1.0231246026700573), OrderedStatistic(items_base=frozenset({'range4'}), items_add=frozenset({' White'}), confidence=0.8778409090909092, lift=1.0231246026700573)]),\n",
              " RelationRecord(items=frozenset({' Male', ' Private', ' <=50K'}), support=0.342, ordered_statistics=[OrderedStatistic(items_base=frozenset(), items_add=frozenset({' Male', ' Private', ' <=50K'}), confidence=0.342, lift=1.0), OrderedStatistic(items_base=frozenset({' <=50K'}), items_add=frozenset({' Male', ' Private'}), confidence=0.4494086727989488, lift=0.9706450816391983), OrderedStatistic(items_base=frozenset({' Male'}), items_add=frozenset({' Private', ' <=50K'}), confidence=0.5135135135135135, lift=0.9302781041911475), OrderedStatistic(items_base=frozenset({' Private'}), items_add=frozenset({' Male', ' <=50K'}), confidence=0.48997134670487114, lift=1.0559727299673947), OrderedStatistic(items_base=frozenset({' Male', ' <=50K'}), items_add=frozenset({' Private'}), confidence=0.7370689655172414, lift=1.0559727299673947), OrderedStatistic(items_base=frozenset({' Private', ' <=50K'}), items_add=frozenset({' Male'}), confidence=0.6195652173913043, lift=0.9302781041911475), OrderedStatistic(items_base=frozenset({' Male', ' Private'}), items_add=frozenset({' <=50K'}), confidence=0.7386609071274298, lift=0.9706450816391982)]),\n",
              " RelationRecord(items=frozenset({' Male', ' United-States', ' <=50K'}), support=0.415, ordered_statistics=[OrderedStatistic(items_base=frozenset(), items_add=frozenset({' Male', ' United-States', ' <=50K'}), confidence=0.415, lift=1.0), OrderedStatistic(items_base=frozenset({' <=50K'}), items_add=frozenset({' Male', ' United-States'}), confidence=0.545335085413929, lift=0.9088918090232151), OrderedStatistic(items_base=frozenset({' Male'}), items_add=frozenset({' United-States', ' <=50K'}), confidence=0.623123123123123, lift=0.9109987180162616), OrderedStatistic(items_base=frozenset({' United-States'}), items_add=frozenset({' Male', ' <=50K'}), confidence=0.45856353591160215, lift=0.988283482568108), OrderedStatistic(items_base=frozenset({' Male', ' <=50K'}), items_add=frozenset({' United-States'}), confidence=0.8943965517241378, lift=0.988283482568108), OrderedStatistic(items_base=frozenset({' United-States', ' <=50K'}), items_add=frozenset({' Male'}), confidence=0.6067251461988303, lift=0.9109987180162618), OrderedStatistic(items_base=frozenset({' Male', ' United-States'}), items_add=frozenset({' <=50K'}), confidence=0.6916666666666667, lift=0.9088918090232151)]),\n",
              " RelationRecord(items=frozenset({' Male', ' White', ' <=50K'}), support=0.404, ordered_statistics=[OrderedStatistic(items_base=frozenset(), items_add=frozenset({' Male', ' White', ' <=50K'}), confidence=0.404, lift=1.0), OrderedStatistic(items_base=frozenset({' <=50K'}), items_add=frozenset({' Male', ' White'}), confidence=0.530880420499343, lift=0.9043959463361892), OrderedStatistic(items_base=frozenset({' Male'}), items_add=frozenset({' White', ' <=50K'}), confidence=0.6066066066066066, lift=0.9448701037486084), OrderedStatistic(items_base=frozenset({' White'}), items_add=frozenset({' Male', ' <=50K'}), confidence=0.4708624708624709, lift=1.0147898078932562), OrderedStatistic(items_base=frozenset({' Male', ' <=50K'}), items_add=frozenset({' White'}), confidence=0.8706896551724138, lift=1.0147898078932562), OrderedStatistic(items_base=frozenset({' White', ' <=50K'}), items_add=frozenset({' Male'}), confidence=0.6292834890965733, lift=0.9448701037486085), OrderedStatistic(items_base=frozenset({' Male', ' White'}), items_add=frozenset({' <=50K'}), confidence=0.68824531516184, lift=0.9043959463361891)]),\n",
              " RelationRecord(items=frozenset({' United-States', ' Private', ' <=50K'}), support=0.489, ordered_statistics=[OrderedStatistic(items_base=frozenset(), items_add=frozenset({' United-States', ' Private', ' <=50K'}), confidence=0.489, lift=1.0), OrderedStatistic(items_base=frozenset({' <=50K'}), items_add=frozenset({' United-States', ' Private'}), confidence=0.6425755584756898, lift=1.0248414010776552), OrderedStatistic(items_base=frozenset({' Private'}), items_add=frozenset({' United-States', ' <=50K'}), confidence=0.7005730659025788, lift=1.024229628512542), OrderedStatistic(items_base=frozenset({' United-States'}), items_add=frozenset({' Private', ' <=50K'}), confidence=0.5403314917127071, lift=0.9788613980302664), OrderedStatistic(items_base=frozenset({' Private', ' <=50K'}), items_add=frozenset({' United-States'}), confidence=0.8858695652173912, lift=0.9788613980302665), OrderedStatistic(items_base=frozenset({' United-States', ' <=50K'}), items_add=frozenset({' Private'}), confidence=0.7149122807017543, lift=1.024229628512542), OrderedStatistic(items_base=frozenset({' United-States', ' Private'}), items_add=frozenset({' <=50K'}), confidence=0.7799043062200957, lift=1.0248414010776552)]),\n",
              " RelationRecord(items=frozenset({' White', ' Private', ' <=50K'}), support=0.478, ordered_statistics=[OrderedStatistic(items_base=frozenset(), items_add=frozenset({' <=50K', ' White', ' Private'}), confidence=0.478, lift=1.0), OrderedStatistic(items_base=frozenset({' <=50K'}), items_add=frozenset({' White', ' Private'}), confidence=0.6281208935611038, lift=1.028021102391332), OrderedStatistic(items_base=frozenset({' Private'}), items_add=frozenset({' White', ' <=50K'}), confidence=0.6848137535816619, lift=1.066688089691062), OrderedStatistic(items_base=frozenset({' White'}), items_add=frozenset({' Private', ' <=50K'}), confidence=0.5571095571095571, lift=1.0092564440390526), OrderedStatistic(items_base=frozenset({' Private', ' <=50K'}), items_add=frozenset({' White'}), confidence=0.8659420289855071, lift=1.0092564440390526), OrderedStatistic(items_base=frozenset({' White', ' <=50K'}), items_add=frozenset({' Private'}), confidence=0.7445482866043613, lift=1.0666880896910622), OrderedStatistic(items_base=frozenset({' White', ' Private'}), items_add=frozenset({' <=50K'}), confidence=0.7823240589198036, lift=1.028021102391332)]),\n",
              " RelationRecord(items=frozenset({' United-States', ' White', ' <=50K'}), support=0.585, ordered_statistics=[OrderedStatistic(items_base=frozenset(), items_add=frozenset({' United-States', ' White', ' <=50K'}), confidence=0.585, lift=1.0), OrderedStatistic(items_base=frozenset({' <=50K'}), items_add=frozenset({' United-States', ' White'}), confidence=0.7687253613666228, lift=0.9657353786012849), OrderedStatistic(items_base=frozenset({' United-States'}), items_add=frozenset({' White', ' <=50K'}), confidence=0.6464088397790054, lift=1.0068673516806939), OrderedStatistic(items_base=frozenset({' White'}), items_add=frozenset({' United-States', ' <=50K'}), confidence=0.6818181818181818, lift=0.9968102073365229), OrderedStatistic(items_base=frozenset({' United-States', ' <=50K'}), items_add=frozenset({' White'}), confidence=0.8552631578947367, lift=0.996810207336523), OrderedStatistic(items_base=frozenset({' White', ' <=50K'}), items_add=frozenset({' United-States'}), confidence=0.911214953271028, lift=1.0068673516806939), OrderedStatistic(items_base=frozenset({' United-States', ' White'}), items_add=frozenset({' <=50K'}), confidence=0.7349246231155778, lift=0.9657353786012849)]),\n",
              " RelationRecord(items=frozenset({' Husband', ' Male', ' Married-civ-spouse'}), support=0.395, ordered_statistics=[OrderedStatistic(items_base=frozenset(), items_add=frozenset({' Husband', ' Male', ' Married-civ-spouse'}), confidence=0.395, lift=1.0), OrderedStatistic(items_base=frozenset({' Husband'}), items_add=frozenset({' Male', ' Married-civ-spouse'}), confidence=1.0, lift=2.5), OrderedStatistic(items_base=frozenset({' Male'}), items_add=frozenset({' Husband', ' Married-civ-spouse'}), confidence=0.5930930930930931, lift=1.5015015015015014), OrderedStatistic(items_base=frozenset({' Married-civ-spouse'}), items_add=frozenset({' Husband', ' Male'}), confidence=0.883668903803132, lift=2.237136465324385), OrderedStatistic(items_base=frozenset({' Husband', ' Male'}), items_add=frozenset({' Married-civ-spouse'}), confidence=1.0, lift=2.237136465324385), OrderedStatistic(items_base=frozenset({' Husband', ' Married-civ-spouse'}), items_add=frozenset({' Male'}), confidence=1.0, lift=1.5015015015015014), OrderedStatistic(items_base=frozenset({' Male', ' Married-civ-spouse'}), items_add=frozenset({' Husband'}), confidence=0.9875, lift=2.5)]),\n",
              " RelationRecord(items=frozenset({' Husband', ' United-States', ' Male'}), support=0.362, ordered_statistics=[OrderedStatistic(items_base=frozenset(), items_add=frozenset({' Husband', ' United-States', ' Male'}), confidence=0.362, lift=1.0), OrderedStatistic(items_base=frozenset({' Husband'}), items_add=frozenset({' Male', ' United-States'}), confidence=0.9164556962025315, lift=1.5274261603375525), OrderedStatistic(items_base=frozenset({' Male'}), items_add=frozenset({' Husband', ' United-States'}), confidence=0.5435435435435435, lift=1.5015015015015014), OrderedStatistic(items_base=frozenset({' United-States'}), items_add=frozenset({' Husband', ' Male'}), confidence=0.39999999999999997, lift=1.0126582278481011), OrderedStatistic(items_base=frozenset({' Husband', ' Male'}), items_add=frozenset({' United-States'}), confidence=0.9164556962025315, lift=1.0126582278481011), OrderedStatistic(items_base=frozenset({' Husband', ' United-States'}), items_add=frozenset({' Male'}), confidence=1.0, lift=1.5015015015015014), OrderedStatistic(items_base=frozenset({' Male', ' United-States'}), items_add=frozenset({' Husband'}), confidence=0.6033333333333334, lift=1.5274261603375527)]),\n",
              " RelationRecord(items=frozenset({' Husband', ' Male', ' White'}), support=0.353, ordered_statistics=[OrderedStatistic(items_base=frozenset(), items_add=frozenset({' Husband', ' Male', ' White'}), confidence=0.353, lift=1.0), OrderedStatistic(items_base=frozenset({' Husband'}), items_add=frozenset({' Male', ' White'}), confidence=0.8936708860759492, lift=1.5224376253423326), OrderedStatistic(items_base=frozenset({' Male'}), items_add=frozenset({' Husband', ' White'}), confidence=0.53003003003003, lift=1.5015015015015016), OrderedStatistic(items_base=frozenset({' White'}), items_add=frozenset({' Husband', ' Male'}), confidence=0.4114219114219114, lift=1.0415744592959781), OrderedStatistic(items_base=frozenset({' Husband', ' Male'}), items_add=frozenset({' White'}), confidence=0.8936708860759492, lift=1.0415744592959781), OrderedStatistic(items_base=frozenset({' Husband', ' White'}), items_add=frozenset({' Male'}), confidence=1.0, lift=1.5015015015015014), OrderedStatistic(items_base=frozenset({' Male', ' White'}), items_add=frozenset({' Husband'}), confidence=0.6013628620102215, lift=1.5224376253423328)]),\n",
              " RelationRecord(items=frozenset({' Husband', ' United-States', ' Married-civ-spouse'}), support=0.362, ordered_statistics=[OrderedStatistic(items_base=frozenset(), items_add=frozenset({' Husband', ' United-States', ' Married-civ-spouse'}), confidence=0.362, lift=1.0), OrderedStatistic(items_base=frozenset({' Husband'}), items_add=frozenset({' Married-civ-spouse', ' United-States'}), confidence=0.9164556962025315, lift=2.262853570870448), OrderedStatistic(items_base=frozenset({' Married-civ-spouse'}), items_add=frozenset({' Husband', ' United-States'}), confidence=0.8098434004474272, lift=2.237136465324385), OrderedStatistic(items_base=frozenset({' United-States'}), items_add=frozenset({' Husband', ' Married-civ-spouse'}), confidence=0.39999999999999997, lift=1.0126582278481011), OrderedStatistic(items_base=frozenset({' Husband', ' Married-civ-spouse'}), items_add=frozenset({' United-States'}), confidence=0.9164556962025315, lift=1.0126582278481011), OrderedStatistic(items_base=frozenset({' Husband', ' United-States'}), items_add=frozenset({' Married-civ-spouse'}), confidence=1.0, lift=2.237136465324385), OrderedStatistic(items_base=frozenset({' Married-civ-spouse', ' United-States'}), items_add=frozenset({' Husband'}), confidence=0.893827160493827, lift=2.262853570870448)]),\n",
              " RelationRecord(items=frozenset({' White', ' Husband', ' Married-civ-spouse'}), support=0.353, ordered_statistics=[OrderedStatistic(items_base=frozenset(), items_add=frozenset({' Husband', ' White', ' Married-civ-spouse'}), confidence=0.353, lift=1.0), OrderedStatistic(items_base=frozenset({' Husband'}), items_add=frozenset({' Married-civ-spouse', ' White'}), confidence=0.8936708860759492, lift=2.239776656831953), OrderedStatistic(items_base=frozenset({' Married-civ-spouse'}), items_add=frozenset({' Husband', ' White'}), confidence=0.7897091722595078, lift=2.237136465324385), OrderedStatistic(items_base=frozenset({' White'}), items_add=frozenset({' Husband', ' Married-civ-spouse'}), confidence=0.4114219114219114, lift=1.0415744592959781), OrderedStatistic(items_base=frozenset({' Husband', ' Married-civ-spouse'}), items_add=frozenset({' White'}), confidence=0.8936708860759492, lift=1.0415744592959781), OrderedStatistic(items_base=frozenset({' Husband', ' White'}), items_add=frozenset({' Married-civ-spouse'}), confidence=1.0, lift=2.237136465324385), OrderedStatistic(items_base=frozenset({' Married-civ-spouse', ' White'}), items_add=frozenset({' Husband'}), confidence=0.8847117794486214, lift=2.239776656831953)]),\n",
              " RelationRecord(items=frozenset({' Husband', ' United-States', ' White'}), support=0.337, ordered_statistics=[OrderedStatistic(items_base=frozenset(), items_add=frozenset({' Husband', ' United-States', ' White'}), confidence=0.337, lift=1.0), OrderedStatistic(items_base=frozenset({' Husband'}), items_add=frozenset({' United-States', ' White'}), confidence=0.8531645569620253, lift=1.0718147700527956), OrderedStatistic(items_base=frozenset({' United-States'}), items_add=frozenset({' Husband', ' White'}), confidence=0.37237569060773484, lift=1.0548886419482575), OrderedStatistic(items_base=frozenset({' White'}), items_add=frozenset({' Husband', ' United-States'}), confidence=0.3927738927738928, lift=1.085010753519041), OrderedStatistic(items_base=frozenset({' Husband', ' United-States'}), items_add=frozenset({' White'}), confidence=0.9309392265193371, lift=1.085010753519041), OrderedStatistic(items_base=frozenset({' Husband', ' White'}), items_add=frozenset({' United-States'}), confidence=0.9546742209631729, lift=1.0548886419482573), OrderedStatistic(items_base=frozenset({' United-States', ' White'}), items_add=frozenset({' Husband'}), confidence=0.4233668341708543, lift=1.0718147700527956)]),\n",
              " RelationRecord(items=frozenset({' Male', ' United-States', ' Married-civ-spouse'}), support=0.364, ordered_statistics=[OrderedStatistic(items_base=frozenset(), items_add=frozenset({' Male', ' United-States', ' Married-civ-spouse'}), confidence=0.364, lift=1.0), OrderedStatistic(items_base=frozenset({' Male'}), items_add=frozenset({' Married-civ-spouse', ' United-States'}), confidence=0.5465465465465466, lift=1.349497645793942), OrderedStatistic(items_base=frozenset({' Married-civ-spouse'}), items_add=frozenset({' Male', ' United-States'}), confidence=0.814317673378076, lift=1.3571961222967934), OrderedStatistic(items_base=frozenset({' United-States'}), items_add=frozenset({' Male', ' Married-civ-spouse'}), confidence=0.40220994475138117, lift=1.005524861878453), OrderedStatistic(items_base=frozenset({' Male', ' Married-civ-spouse'}), items_add=frozenset({' United-States'}), confidence=0.9099999999999999, lift=1.005524861878453), OrderedStatistic(items_base=frozenset({' Male', ' United-States'}), items_add=frozenset({' Married-civ-spouse'}), confidence=0.6066666666666667, lift=1.3571961222967934), OrderedStatistic(items_base=frozenset({' Married-civ-spouse', ' United-States'}), items_add=frozenset({' Male'}), confidence=0.8987654320987654, lift=1.3494976457939418)]),\n",
              " RelationRecord(items=frozenset({' White', ' Male', ' Married-civ-spouse'}), support=0.357, ordered_statistics=[OrderedStatistic(items_base=frozenset(), items_add=frozenset({' Male', ' White', ' Married-civ-spouse'}), confidence=0.357, lift=1.0), OrderedStatistic(items_base=frozenset({' Male'}), items_add=frozenset({' Married-civ-spouse', ' White'}), confidence=0.536036036036036, lift=1.3434487118697644), OrderedStatistic(items_base=frozenset({' Married-civ-spouse'}), items_add=frozenset({' Male', ' White'}), confidence=0.7986577181208053, lift=1.3605753289962612), OrderedStatistic(items_base=frozenset({' White'}), items_add=frozenset({' Male', ' Married-civ-spouse'}), confidence=0.4160839160839161, lift=1.0402097902097902), OrderedStatistic(items_base=frozenset({' Male', ' Married-civ-spouse'}), items_add=frozenset({' White'}), confidence=0.8925, lift=1.0402097902097902), OrderedStatistic(items_base=frozenset({' Male', ' White'}), items_add=frozenset({' Married-civ-spouse'}), confidence=0.6081771720613288, lift=1.3605753289962612), OrderedStatistic(items_base=frozenset({' Married-civ-spouse', ' White'}), items_add=frozenset({' Male'}), confidence=0.894736842105263, lift=1.3434487118697642)]),\n",
              " RelationRecord(items=frozenset({' Male', ' United-States', ' Private'}), support=0.413, ordered_statistics=[OrderedStatistic(items_base=frozenset(), items_add=frozenset({' Male', ' United-States', ' Private'}), confidence=0.413, lift=1.0), OrderedStatistic(items_base=frozenset({' Male'}), items_add=frozenset({' United-States', ' Private'}), confidence=0.6201201201201201, lift=0.9890273048167785), OrderedStatistic(items_base=frozenset({' Private'}), items_add=frozenset({' Male', ' United-States'}), confidence=0.5916905444126075, lift=0.9861509073543459), OrderedStatistic(items_base=frozenset({' United-States'}), items_add=frozenset({' Male', ' Private'}), confidence=0.45635359116022095, lift=0.9856449053136521), OrderedStatistic(items_base=frozenset({' Male', ' Private'}), items_add=frozenset({' United-States'}), confidence=0.8920086393088552, lift=0.9856449053136521), OrderedStatistic(items_base=frozenset({' Male', ' United-States'}), items_add=frozenset({' Private'}), confidence=0.6883333333333334, lift=0.9861509073543459), OrderedStatistic(items_base=frozenset({' United-States', ' Private'}), items_add=frozenset({' Male'}), confidence=0.6586921850079744, lift=0.9890273048167784)]),\n",
              " RelationRecord(items=frozenset({' White', ' Male', ' Private'}), support=0.412, ordered_statistics=[OrderedStatistic(items_base=frozenset(), items_add=frozenset({' Male', ' White', ' Private'}), confidence=0.412, lift=1.0), OrderedStatistic(items_base=frozenset({' Male'}), items_add=frozenset({' White', ' Private'}), confidence=0.6186186186186186, lift=1.0124690975754804), OrderedStatistic(items_base=frozenset({' Private'}), items_add=frozenset({' Male', ' White'}), confidence=0.5902578796561605, lift=1.0055500505215682), OrderedStatistic(items_base=frozenset({' White'}), items_add=frozenset({' Male', ' Private'}), confidence=0.4801864801864802, lift=1.0371198276165878), OrderedStatistic(items_base=frozenset({' Male', ' Private'}), items_add=frozenset({' White'}), confidence=0.8898488120950323, lift=1.0371198276165878), OrderedStatistic(items_base=frozenset({' Male', ' White'}), items_add=frozenset({' Private'}), confidence=0.7018739352640545, lift=1.0055500505215682), OrderedStatistic(items_base=frozenset({' White', ' Private'}), items_add=frozenset({' Male'}), confidence=0.67430441898527, lift=1.0124690975754804)]),\n",
              " RelationRecord(items=frozenset({' Male', ' United-States', ' White'}), support=0.544, ordered_statistics=[OrderedStatistic(items_base=frozenset(), items_add=frozenset({' Male', ' United-States', ' White'}), confidence=0.544, lift=1.0), OrderedStatistic(items_base=frozenset({' Male'}), items_add=frozenset({' United-States', ' White'}), confidence=0.8168168168168168, lift=1.0261517799206241), OrderedStatistic(items_base=frozenset({' United-States'}), items_add=frozenset({' Male', ' White'}), confidence=0.6011049723756906, lift=1.0240289137575649), OrderedStatistic(items_base=frozenset({' White'}), items_add=frozenset({' Male', ' United-States'}), confidence=0.6340326340326341, lift=1.056721056721057), OrderedStatistic(items_base=frozenset({' Male', ' United-States'}), items_add=frozenset({' White'}), confidence=0.9066666666666667, lift=1.0567210567210568), OrderedStatistic(items_base=frozenset({' Male', ' White'}), items_add=frozenset({' United-States'}), confidence=0.9267461669505964, lift=1.024028913757565), OrderedStatistic(items_base=frozenset({' United-States', ' White'}), items_add=frozenset({' Male'}), confidence=0.6834170854271356, lift=1.0261517799206241)]),\n",
              " RelationRecord(items=frozenset({' Married-civ-spouse', ' United-States', ' White'}), support=0.378, ordered_statistics=[OrderedStatistic(items_base=frozenset(), items_add=frozenset({' Married-civ-spouse', ' United-States', ' White'}), confidence=0.378, lift=1.0), OrderedStatistic(items_base=frozenset({' Married-civ-spouse'}), items_add=frozenset({' United-States', ' White'}), confidence=0.8456375838926175, lift=1.062358773734444), OrderedStatistic(items_base=frozenset({' United-States'}), items_add=frozenset({' Married-civ-spouse', ' White'}), confidence=0.4176795580110497, lift=1.0468159348647863), OrderedStatistic(items_base=frozenset({' White'}), items_add=frozenset({' Married-civ-spouse', ' United-States'}), confidence=0.4405594405594406, lift=1.0878010878010878), OrderedStatistic(items_base=frozenset({' Married-civ-spouse', ' United-States'}), items_add=frozenset({' White'}), confidence=0.9333333333333332, lift=1.0878010878010878), OrderedStatistic(items_base=frozenset({' Married-civ-spouse', ' White'}), items_add=frozenset({' United-States'}), confidence=0.9473684210526315, lift=1.046815934864786), OrderedStatistic(items_base=frozenset({' United-States', ' White'}), items_add=frozenset({' Married-civ-spouse'}), confidence=0.4748743718592965, lift=1.062358773734444)]),\n",
              " RelationRecord(items=frozenset({' White', ' United-States', ' Private'}), support=0.562, ordered_statistics=[OrderedStatistic(items_base=frozenset(), items_add=frozenset({' United-States', ' White', ' Private'}), confidence=0.562, lift=1.0), OrderedStatistic(items_base=frozenset({' Private'}), items_add=frozenset({' United-States', ' White'}), confidence=0.8051575931232093, lift=1.011504513973881), OrderedStatistic(items_base=frozenset({' United-States'}), items_add=frozenset({' White', ' Private'}), confidence=0.6209944751381216, lift=1.0163575697841596), OrderedStatistic(items_base=frozenset({' White'}), items_add=frozenset({' United-States', ' Private'}), confidence=0.655011655011655, lift=1.0446756858240112), OrderedStatistic(items_base=frozenset({' United-States', ' Private'}), items_add=frozenset({' White'}), confidence=0.8963317384370016, lift=1.0446756858240112), OrderedStatistic(items_base=frozenset({' White', ' Private'}), items_add=frozenset({' United-States'}), confidence=0.9198036006546646, lift=1.0163575697841598), OrderedStatistic(items_base=frozenset({' United-States', ' White'}), items_add=frozenset({' Private'}), confidence=0.7060301507537688, lift=1.011504513973881)]),\n",
              " RelationRecord(items=frozenset({' Male', ' United-States', ' Private', ' <=50K'}), support=0.3, ordered_statistics=[OrderedStatistic(items_base=frozenset(), items_add=frozenset({' Male', ' United-States', ' Private', ' <=50K'}), confidence=0.3, lift=1.0), OrderedStatistic(items_base=frozenset({' <=50K'}), items_add=frozenset({' Male', ' United-States', ' Private'}), confidence=0.39421813403416556, lift=0.9545233269592387), OrderedStatistic(items_base=frozenset({' Male'}), items_add=frozenset({' United-States', ' Private', ' <=50K'}), confidence=0.4504504504504504, lift=0.9211665653383444), OrderedStatistic(items_base=frozenset({' Private'}), items_add=frozenset({' Male', ' United-States', ' <=50K'}), confidence=0.42979942693409745, lift=1.0356612697207168), OrderedStatistic(items_base=frozenset({' United-States'}), items_add=frozenset({' Male', ' Private', ' <=50K'}), confidence=0.3314917127071823, lift=0.9692740137636909), OrderedStatistic(items_base=frozenset({' Male', ' <=50K'}), items_add=frozenset({' United-States', ' Private'}), confidence=0.6465517241379309, lift=1.031182973106748), OrderedStatistic(items_base=frozenset({' Private', ' <=50K'}), items_add=frozenset({' Male', ' United-States'}), confidence=0.5434782608695652, lift=0.9057971014492754), OrderedStatistic(items_base=frozenset({' United-States', ' <=50K'}), items_add=frozenset({' Male', ' Private'}), confidence=0.43859649122807015, lift=0.9472926376416202), OrderedStatistic(items_base=frozenset({' Male', ' Private'}), items_add=frozenset({' United-States', ' <=50K'}), confidence=0.6479481641468682, lift=0.9472926376416201), OrderedStatistic(items_base=frozenset({' Male', ' United-States'}), items_add=frozenset({' Private', ' <=50K'}), confidence=0.5, lift=0.9057971014492753), OrderedStatistic(items_base=frozenset({' United-States', ' Private'}), items_add=frozenset({' Male', ' <=50K'}), confidence=0.4784688995215311, lift=1.0311829731067481), OrderedStatistic(items_base=frozenset({' Male', ' Private', ' <=50K'}), items_add=frozenset({' United-States'}), confidence=0.8771929824561403, lift=0.9692740137636909), OrderedStatistic(items_base=frozenset({' Male', ' United-States', ' <=50K'}), items_add=frozenset({' Private'}), confidence=0.7228915662650602, lift=1.0356612697207168), OrderedStatistic(items_base=frozenset({' United-States', ' Private', ' <=50K'}), items_add=frozenset({' Male'}), confidence=0.6134969325153374, lift=0.9211665653383444), OrderedStatistic(items_base=frozenset({' Male', ' United-States', ' Private'}), items_add=frozenset({' <=50K'}), confidence=0.7263922518159807, lift=0.9545233269592387)]),\n",
              " RelationRecord(items=frozenset({' White', ' Male', ' Private', ' <=50K'}), support=0.301, ordered_statistics=[OrderedStatistic(items_base=frozenset(), items_add=frozenset({' White', ' Male', ' Private', ' <=50K'}), confidence=0.301, lift=1.0), OrderedStatistic(items_base=frozenset({' <=50K'}), items_add=frozenset({' Male', ' White', ' Private'}), confidence=0.3955321944809461, lift=0.9600295982547237), OrderedStatistic(items_base=frozenset({' Male'}), items_add=frozenset({' <=50K', ' White', ' Private'}), confidence=0.4519519519519519, lift=0.9455061756316986), OrderedStatistic(items_base=frozenset({' Private'}), items_add=frozenset({' Male', ' White', ' <=50K'}), confidence=0.43123209169054444, lift=1.0674061675508526), OrderedStatistic(items_base=frozenset({' White'}), items_add=frozenset({' Male', ' Private', ' <=50K'}), confidence=0.3508158508158508, lift=1.0257773415668152), OrderedStatistic(items_base=frozenset({' Male', ' <=50K'}), items_add=frozenset({' White', ' Private'}), confidence=0.6487068965517241, lift=1.0617134149782719), OrderedStatistic(items_base=frozenset({' Private', ' <=50K'}), items_add=frozenset({' Male', ' White'}), confidence=0.5452898550724637, lift=0.9289435350467867), OrderedStatistic(items_base=frozenset({' White', ' <=50K'}), items_add=frozenset({' Male', ' Private'}), confidence=0.4688473520249221, lift=1.0126292700322292), OrderedStatistic(items_base=frozenset({' Male', ' Private'}), items_add=frozenset({' White', ' <=50K'}), confidence=0.6501079913606911, lift=1.012629270032229), OrderedStatistic(items_base=frozenset({' Male', ' White'}), items_add=frozenset({' Private', ' <=50K'}), confidence=0.5127768313458263, lift=0.9289435350467867), OrderedStatistic(items_base=frozenset({' White', ' Private'}), items_add=frozenset({' Male', ' <=50K'}), confidence=0.49263502454991814, lift=1.0617134149782719), OrderedStatistic(items_base=frozenset({' Male', ' Private', ' <=50K'}), items_add=frozenset({' White'}), confidence=0.8801169590643274, lift=1.0257773415668152), OrderedStatistic(items_base=frozenset({' Male', ' White', ' <=50K'}), items_add=frozenset({' Private'}), confidence=0.7450495049504949, lift=1.0674061675508524), OrderedStatistic(items_base=frozenset({' White', ' Private', ' <=50K'}), items_add=frozenset({' Male'}), confidence=0.6297071129707112, lift=0.9455061756316985), OrderedStatistic(items_base=frozenset({' White', ' Male', ' Private'}), items_add=frozenset({' <=50K'}), confidence=0.7305825242718447, lift=0.9600295982547236)]),\n",
              " RelationRecord(items=frozenset({' Male', ' United-States', ' White', ' <=50K'}), support=0.366, ordered_statistics=[OrderedStatistic(items_base=frozenset(), items_add=frozenset({' Male', ' United-States', ' White', ' <=50K'}), confidence=0.366, lift=1.0), OrderedStatistic(items_base=frozenset({' <=50K'}), items_add=frozenset({' Male', ' United-States', ' White'}), confidence=0.480946123521682, lift=0.8840921388266212), OrderedStatistic(items_base=frozenset({' Male'}), items_add=frozenset({' United-States', ' White', ' <=50K'}), confidence=0.5495495495495495, lift=0.9394009394009394), OrderedStatistic(items_base=frozenset({' United-States'}), items_add=frozenset({' Male', ' White', ' <=50K'}), confidence=0.4044198895027624, lift=1.0010393304523821), OrderedStatistic(items_base=frozenset({' White'}), items_add=frozenset({' Male', ' United-States', ' <=50K'}), confidence=0.42657342657342656, lift=1.0278877748757267), OrderedStatistic(items_base=frozenset({' Male', ' <=50K'}), items_add=frozenset({' United-States', ' White'}), confidence=0.7887931034482758, lift=0.9909461098596429), OrderedStatistic(items_base=frozenset({' United-States', ' <=50K'}), items_add=frozenset({' Male', ' White'}), confidence=0.5350877192982456, lift=0.9115634059595326), OrderedStatistic(items_base=frozenset({' White', ' <=50K'}), items_add=frozenset({' Male', ' United-States'}), confidence=0.5700934579439252, lift=0.9501557632398754), OrderedStatistic(items_base=frozenset({' Male', ' United-States'}), items_add=frozenset({' White', ' <=50K'}), confidence=0.61, lift=0.9501557632398754), OrderedStatistic(items_base=frozenset({' Male', ' White'}), items_add=frozenset({' United-States', ' <=50K'}), confidence=0.6235093696763203, lift=0.9115634059595326), OrderedStatistic(items_base=frozenset({' United-States', ' White'}), items_add=frozenset({' Male', ' <=50K'}), confidence=0.45979899497487436, lift=0.9909461098596429), OrderedStatistic(items_base=frozenset({' Male', ' United-States', ' <=50K'}), items_add=frozenset({' White'}), confidence=0.8819277108433735, lift=1.0278877748757267), OrderedStatistic(items_base=frozenset({' Male', ' White', ' <=50K'}), items_add=frozenset({' United-States'}), confidence=0.9059405940594059, lift=1.0010393304523821), OrderedStatistic(items_base=frozenset({' United-States', ' White', ' <=50K'}), items_add=frozenset({' Male'}), confidence=0.6256410256410256, lift=0.9394009394009394), OrderedStatistic(items_base=frozenset({' Male', ' United-States', ' White'}), items_add=frozenset({' <=50K'}), confidence=0.6727941176470588, lift=0.8840921388266212)]),\n",
              " RelationRecord(items=frozenset({' White', ' United-States', ' Private', ' <=50K'}), support=0.43, ordered_statistics=[OrderedStatistic(items_base=frozenset(), items_add=frozenset({' White', ' United-States', ' Private', ' <=50K'}), confidence=0.43, lift=1.0), OrderedStatistic(items_base=frozenset({' <=50K'}), items_add=frozenset({' United-States', ' White', ' Private'}), confidence=0.5650459921156373, lift=1.0054199147965075), OrderedStatistic(items_base=frozenset({' Private'}), items_add=frozenset({' United-States', ' White', ' <=50K'}), confidence=0.6160458452722063, lift=1.0530698209781304), OrderedStatistic(items_base=frozenset({' United-States'}), items_add=frozenset({' <=50K', ' White', ' Private'}), confidence=0.4751381215469613, lift=0.994012806583601), OrderedStatistic(items_base=frozenset({' White'}), items_add=frozenset({' United-States', ' Private', ' <=50K'}), confidence=0.5011655011655012, lift=1.0248783254918226), OrderedStatistic(items_base=frozenset({' Private', ' <=50K'}), items_add=frozenset({' United-States', ' White'}), confidence=0.7789855072463767, lift=0.9786250091034883), OrderedStatistic(items_base=frozenset({' United-States', ' <=50K'}), items_add=frozenset({' White', ' Private'}), confidence=0.6286549707602339, lift=1.0288952058268968), OrderedStatistic(items_base=frozenset({' White', ' <=50K'}), items_add=frozenset({' United-States', ' Private'}), confidence=0.6697819314641744, lift=1.068232745556897), OrderedStatistic(items_base=frozenset({' United-States', ' Private'}), items_add=frozenset({' White', ' <=50K'}), confidence=0.6858054226475279, lift=1.068232745556897), OrderedStatistic(items_base=frozenset({' White', ' Private'}), items_add=frozenset({' United-States', ' <=50K'}), confidence=0.7037643207855974, lift=1.0288952058268968), OrderedStatistic(items_base=frozenset({' United-States', ' White'}), items_add=frozenset({' Private', ' <=50K'}), confidence=0.5402010050251256, lift=0.9786250091034883), OrderedStatistic(items_base=frozenset({' United-States', ' Private', ' <=50K'}), items_add=frozenset({' White'}), confidence=0.8793456032719836, lift=1.0248783254918223), OrderedStatistic(items_base=frozenset({' White', ' Private', ' <=50K'}), items_add=frozenset({' United-States'}), confidence=0.8995815899581591, lift=0.9940128065836011), OrderedStatistic(items_base=frozenset({' United-States', ' White', ' <=50K'}), items_add=frozenset({' Private'}), confidence=0.7350427350427351, lift=1.0530698209781306), OrderedStatistic(items_base=frozenset({' White', ' United-States', ' Private'}), items_add=frozenset({' <=50K'}), confidence=0.7651245551601422, lift=1.0054199147965075)]),\n",
              " RelationRecord(items=frozenset({' Husband', ' United-States', ' Male', ' Married-civ-spouse'}), support=0.362, ordered_statistics=[OrderedStatistic(items_base=frozenset(), items_add=frozenset({' Husband', ' United-States', ' Male', ' Married-civ-spouse'}), confidence=0.362, lift=1.0), OrderedStatistic(items_base=frozenset({' Husband'}), items_add=frozenset({' Male', ' United-States', ' Married-civ-spouse'}), confidence=0.9164556962025315, lift=2.5177354291278338), OrderedStatistic(items_base=frozenset({' Male'}), items_add=frozenset({' Husband', ' United-States', ' Married-civ-spouse'}), confidence=0.5435435435435435, lift=1.5015015015015014), OrderedStatistic(items_base=frozenset({' Married-civ-spouse'}), items_add=frozenset({' Husband', ' United-States', ' Male'}), confidence=0.8098434004474272, lift=2.237136465324385), OrderedStatistic(items_base=frozenset({' United-States'}), items_add=frozenset({' Husband', ' Male', ' Married-civ-spouse'}), confidence=0.39999999999999997, lift=1.0126582278481011), OrderedStatistic(items_base=frozenset({' Husband', ' Male'}), items_add=frozenset({' Married-civ-spouse', ' United-States'}), confidence=0.9164556962025315, lift=2.262853570870448), OrderedStatistic(items_base=frozenset({' Husband', ' Married-civ-spouse'}), items_add=frozenset({' Male', ' United-States'}), confidence=0.9164556962025315, lift=1.5274261603375525), OrderedStatistic(items_base=frozenset({' Husband', ' United-States'}), items_add=frozenset({' Male', ' Married-civ-spouse'}), confidence=1.0, lift=2.5), OrderedStatistic(items_base=frozenset({' Male', ' Married-civ-spouse'}), items_add=frozenset({' Husband', ' United-States'}), confidence=0.9049999999999999, lift=2.5), OrderedStatistic(items_base=frozenset({' Male', ' United-States'}), items_add=frozenset({' Husband', ' Married-civ-spouse'}), confidence=0.6033333333333334, lift=1.5274261603375527), OrderedStatistic(items_base=frozenset({' Married-civ-spouse', ' United-States'}), items_add=frozenset({' Husband', ' Male'}), confidence=0.893827160493827, lift=2.262853570870448), OrderedStatistic(items_base=frozenset({' Husband', ' Male', ' Married-civ-spouse'}), items_add=frozenset({' United-States'}), confidence=0.9164556962025315, lift=1.0126582278481011), OrderedStatistic(items_base=frozenset({' Husband', ' United-States', ' Male'}), items_add=frozenset({' Married-civ-spouse'}), confidence=1.0, lift=2.237136465324385), OrderedStatistic(items_base=frozenset({' Husband', ' United-States', ' Married-civ-spouse'}), items_add=frozenset({' Male'}), confidence=1.0, lift=1.5015015015015014), OrderedStatistic(items_base=frozenset({' Male', ' United-States', ' Married-civ-spouse'}), items_add=frozenset({' Husband'}), confidence=0.9945054945054945, lift=2.517735429127834)]),\n",
              " RelationRecord(items=frozenset({' White', ' Husband', ' Male', ' Married-civ-spouse'}), support=0.353, ordered_statistics=[OrderedStatistic(items_base=frozenset(), items_add=frozenset({' White', ' Husband', ' Male', ' Married-civ-spouse'}), confidence=0.353, lift=1.0), OrderedStatistic(items_base=frozenset({' Husband'}), items_add=frozenset({' Male', ' White', ' Married-civ-spouse'}), confidence=0.8936708860759492, lift=2.50327979292983), OrderedStatistic(items_base=frozenset({' Male'}), items_add=frozenset({' Husband', ' White', ' Married-civ-spouse'}), confidence=0.53003003003003, lift=1.5015015015015016), OrderedStatistic(items_base=frozenset({' Married-civ-spouse'}), items_add=frozenset({' Husband', ' Male', ' White'}), confidence=0.7897091722595078, lift=2.237136465324385), OrderedStatistic(items_base=frozenset({' White'}), items_add=frozenset({' Husband', ' Male', ' Married-civ-spouse'}), confidence=0.4114219114219114, lift=1.0415744592959781), OrderedStatistic(items_base=frozenset({' Husband', ' Male'}), items_add=frozenset({' Married-civ-spouse', ' White'}), confidence=0.8936708860759492, lift=2.239776656831953), OrderedStatistic(items_base=frozenset({' Husband', ' Married-civ-spouse'}), items_add=frozenset({' Male', ' White'}), confidence=0.8936708860759492, lift=1.5224376253423326), OrderedStatistic(items_base=frozenset({' Husband', ' White'}), items_add=frozenset({' Male', ' Married-civ-spouse'}), confidence=1.0, lift=2.5), OrderedStatistic(items_base=frozenset({' Male', ' Married-civ-spouse'}), items_add=frozenset({' Husband', ' White'}), confidence=0.8825, lift=2.5), OrderedStatistic(items_base=frozenset({' Male', ' White'}), items_add=frozenset({' Husband', ' Married-civ-spouse'}), confidence=0.6013628620102215, lift=1.5224376253423328), OrderedStatistic(items_base=frozenset({' Married-civ-spouse', ' White'}), items_add=frozenset({' Husband', ' Male'}), confidence=0.8847117794486214, lift=2.239776656831953), OrderedStatistic(items_base=frozenset({' Husband', ' Male', ' Married-civ-spouse'}), items_add=frozenset({' White'}), confidence=0.8936708860759492, lift=1.0415744592959781), OrderedStatistic(items_base=frozenset({' Husband', ' Male', ' White'}), items_add=frozenset({' Married-civ-spouse'}), confidence=1.0, lift=2.237136465324385), OrderedStatistic(items_base=frozenset({' White', ' Husband', ' Married-civ-spouse'}), items_add=frozenset({' Male'}), confidence=1.0, lift=1.5015015015015014), OrderedStatistic(items_base=frozenset({' White', ' Male', ' Married-civ-spouse'}), items_add=frozenset({' Husband'}), confidence=0.988795518207283, lift=2.5032797929298303)]),\n",
              " RelationRecord(items=frozenset({' Husband', ' United-States', ' Male', ' White'}), support=0.337, ordered_statistics=[OrderedStatistic(items_base=frozenset(), items_add=frozenset({' Husband', ' United-States', ' Male', ' White'}), confidence=0.337, lift=1.0), OrderedStatistic(items_base=frozenset({' Husband'}), items_add=frozenset({' Male', ' United-States', ' White'}), confidence=0.8531645569620253, lift=1.5683172002978405), OrderedStatistic(items_base=frozenset({' Male'}), items_add=frozenset({' Husband', ' United-States', ' White'}), confidence=0.506006006006006, lift=1.5015015015015014), OrderedStatistic(items_base=frozenset({' United-States'}), items_add=frozenset({' Husband', ' Male', ' White'}), confidence=0.37237569060773484, lift=1.0548886419482575), OrderedStatistic(items_base=frozenset({' White'}), items_add=frozenset({' Husband', ' United-States', ' Male'}), confidence=0.3927738927738928, lift=1.085010753519041), OrderedStatistic(items_base=frozenset({' Husband', ' Male'}), items_add=frozenset({' United-States', ' White'}), confidence=0.8531645569620253, lift=1.0718147700527956), OrderedStatistic(items_base=frozenset({' Husband', ' United-States'}), items_add=frozenset({' Male', ' White'}), confidence=0.9309392265193371, lift=1.5859271320601998), OrderedStatistic(items_base=frozenset({' Husband', ' White'}), items_add=frozenset({' Male', ' United-States'}), confidence=0.9546742209631729, lift=1.5911237016052882), OrderedStatistic(items_base=frozenset({' Male', ' United-States'}), items_add=frozenset({' Husband', ' White'}), confidence=0.5616666666666668, lift=1.5911237016052884), OrderedStatistic(items_base=frozenset({' Male', ' White'}), items_add=frozenset({' Husband', ' United-States'}), confidence=0.5741056218057923, lift=1.5859271320601998), OrderedStatistic(items_base=frozenset({' United-States', ' White'}), items_add=frozenset({' Husband', ' Male'}), confidence=0.4233668341708543, lift=1.0718147700527956), OrderedStatistic(items_base=frozenset({' Husband', ' United-States', ' Male'}), items_add=frozenset({' White'}), confidence=0.9309392265193371, lift=1.085010753519041), OrderedStatistic(items_base=frozenset({' Husband', ' Male', ' White'}), items_add=frozenset({' United-States'}), confidence=0.9546742209631729, lift=1.0548886419482573), OrderedStatistic(items_base=frozenset({' Husband', ' United-States', ' White'}), items_add=frozenset({' Male'}), confidence=1.0, lift=1.5015015015015014), OrderedStatistic(items_base=frozenset({' Male', ' United-States', ' White'}), items_add=frozenset({' Husband'}), confidence=0.6194852941176471, lift=1.5683172002978407)]),\n",
              " RelationRecord(items=frozenset({' White', ' Husband', ' United-States', ' Married-civ-spouse'}), support=0.337, ordered_statistics=[OrderedStatistic(items_base=frozenset(), items_add=frozenset({' White', ' Husband', ' United-States', ' Married-civ-spouse'}), confidence=0.337, lift=1.0), OrderedStatistic(items_base=frozenset({' Husband'}), items_add=frozenset({' Married-civ-spouse', ' United-States', ' White'}), confidence=0.8531645569620253, lift=2.2570490924921303), OrderedStatistic(items_base=frozenset({' Married-civ-spouse'}), items_add=frozenset({' Husband', ' United-States', ' White'}), confidence=0.7539149888143177, lift=2.237136465324385), OrderedStatistic(items_base=frozenset({' United-States'}), items_add=frozenset({' Husband', ' White', ' Married-civ-spouse'}), confidence=0.37237569060773484, lift=1.0548886419482575), OrderedStatistic(items_base=frozenset({' White'}), items_add=frozenset({' Husband', ' United-States', ' Married-civ-spouse'}), confidence=0.3927738927738928, lift=1.085010753519041), OrderedStatistic(items_base=frozenset({' Husband', ' Married-civ-spouse'}), items_add=frozenset({' United-States', ' White'}), confidence=0.8531645569620253, lift=1.0718147700527956), OrderedStatistic(items_base=frozenset({' Husband', ' United-States'}), items_add=frozenset({' Married-civ-spouse', ' White'}), confidence=0.9309392265193371, lift=2.3331810188454565), OrderedStatistic(items_base=frozenset({' Husband', ' White'}), items_add=frozenset({' Married-civ-spouse', ' United-States'}), confidence=0.9546742209631729, lift=2.357220298674501), OrderedStatistic(items_base=frozenset({' Married-civ-spouse', ' United-States'}), items_add=frozenset({' Husband', ' White'}), confidence=0.8320987654320988, lift=2.357220298674501), OrderedStatistic(items_base=frozenset({' Married-civ-spouse', ' White'}), items_add=frozenset({' Husband', ' United-States'}), confidence=0.8446115288220551, lift=2.3331810188454565), OrderedStatistic(items_base=frozenset({' United-States', ' White'}), items_add=frozenset({' Husband', ' Married-civ-spouse'}), confidence=0.4233668341708543, lift=1.0718147700527956), OrderedStatistic(items_base=frozenset({' Husband', ' United-States', ' Married-civ-spouse'}), items_add=frozenset({' White'}), confidence=0.9309392265193371, lift=1.085010753519041), OrderedStatistic(items_base=frozenset({' White', ' Husband', ' Married-civ-spouse'}), items_add=frozenset({' United-States'}), confidence=0.9546742209631729, lift=1.0548886419482573), OrderedStatistic(items_base=frozenset({' Husband', ' United-States', ' White'}), items_add=frozenset({' Married-civ-spouse'}), confidence=1.0, lift=2.237136465324385), OrderedStatistic(items_base=frozenset({' Married-civ-spouse', ' United-States', ' White'}), items_add=frozenset({' Husband'}), confidence=0.8915343915343916, lift=2.2570490924921307)]),\n",
              " RelationRecord(items=frozenset({' White', ' Male', ' United-States', ' Married-civ-spouse'}), support=0.339, ordered_statistics=[OrderedStatistic(items_base=frozenset(), items_add=frozenset({' White', ' Male', ' United-States', ' Married-civ-spouse'}), confidence=0.339, lift=1.0), OrderedStatistic(items_base=frozenset({' Male'}), items_add=frozenset({' Married-civ-spouse', ' United-States', ' White'}), confidence=0.509009009009009, lift=1.3465846799180132), OrderedStatistic(items_base=frozenset({' Married-civ-spouse'}), items_add=frozenset({' Male', ' United-States', ' White'}), confidence=0.7583892617449665, lift=1.3940979076194235), OrderedStatistic(items_base=frozenset({' United-States'}), items_add=frozenset({' Male', ' White', ' Married-civ-spouse'}), confidence=0.37458563535911604, lift=1.0492594827986443), OrderedStatistic(items_base=frozenset({' White'}), items_add=frozenset({' Male', ' United-States', ' Married-civ-spouse'}), confidence=0.39510489510489516, lift=1.0854530085299319), OrderedStatistic(items_base=frozenset({' Male', ' Married-civ-spouse'}), items_add=frozenset({' United-States', ' White'}), confidence=0.8475, lift=1.0646984924623115), OrderedStatistic(items_base=frozenset({' Male', ' United-States'}), items_add=frozenset({' Married-civ-spouse', ' White'}), confidence=0.5650000000000001, lift=1.4160401002506267), OrderedStatistic(items_base=frozenset({' Male', ' White'}), items_add=frozenset({' Married-civ-spouse', ' United-States'}), confidence=0.5775127768313459, lift=1.4259574736576441), OrderedStatistic(items_base=frozenset({' Married-civ-spouse', ' United-States'}), items_add=frozenset({' Male', ' White'}), confidence=0.837037037037037, lift=1.4259574736576441), OrderedStatistic(items_base=frozenset({' Married-civ-spouse', ' White'}), items_add=frozenset({' Male', ' United-States'}), confidence=0.849624060150376, lift=1.4160401002506267), OrderedStatistic(items_base=frozenset({' United-States', ' White'}), items_add=frozenset({' Male', ' Married-civ-spouse'}), confidence=0.4258793969849246, lift=1.0646984924623115), OrderedStatistic(items_base=frozenset({' Male', ' United-States', ' Married-civ-spouse'}), items_add=frozenset({' White'}), confidence=0.9313186813186815, lift=1.0854530085299319), OrderedStatistic(items_base=frozenset({' White', ' Male', ' Married-civ-spouse'}), items_add=frozenset({' United-States'}), confidence=0.9495798319327732, lift=1.0492594827986443), OrderedStatistic(items_base=frozenset({' Male', ' United-States', ' White'}), items_add=frozenset({' Married-civ-spouse'}), confidence=0.6231617647058824, lift=1.3940979076194235), OrderedStatistic(items_base=frozenset({' Married-civ-spouse', ' United-States', ' White'}), items_add=frozenset({' Male'}), confidence=0.8968253968253969, lift=1.3465846799180132)]),\n",
              " RelationRecord(items=frozenset({' White', ' Male', ' United-States', ' Private'}), support=0.377, ordered_statistics=[OrderedStatistic(items_base=frozenset(), items_add=frozenset({' White', ' Male', ' United-States', ' Private'}), confidence=0.377, lift=1.0), OrderedStatistic(items_base=frozenset({' Male'}), items_add=frozenset({' United-States', ' White', ' Private'}), confidence=0.566066066066066, lift=1.0072349930001174), OrderedStatistic(items_base=frozenset({' Private'}), items_add=frozenset({' Male', ' United-States', ' White'}), confidence=0.5401146131805158, lift=0.9928577448171245), OrderedStatistic(items_base=frozenset({' United-States'}), items_add=frozenset({' Male', ' White', ' Private'}), confidence=0.4165745856353591, lift=1.0111033631926192), OrderedStatistic(items_base=frozenset({' White'}), items_add=frozenset({' Male', ' United-States', ' Private'}), confidence=0.4393939393939394, lift=1.0639078435688605), OrderedStatistic(items_base=frozenset({' Male', ' Private'}), items_add=frozenset({' United-States', ' White'}), confidence=0.8142548596112311, lift=1.022933240717627), OrderedStatistic(items_base=frozenset({' Male', ' United-States'}), items_add=frozenset({' White', ' Private'}), confidence=0.6283333333333334, lift=1.0283687943262412), OrderedStatistic(items_base=frozenset({' Male', ' White'}), items_add=frozenset({' United-States', ' Private'}), confidence=0.6422487223168655, lift=1.0243201312868668), OrderedStatistic(items_base=frozenset({' United-States', ' Private'}), items_add=frozenset({' Male', ' White'}), confidence=0.6012759170653907, lift=1.0243201312868668), OrderedStatistic(items_base=frozenset({' White', ' Private'}), items_add=frozenset({' Male', ' United-States'}), confidence=0.6170212765957447, lift=1.0283687943262412), OrderedStatistic(items_base=frozenset({' United-States', ' White'}), items_add=frozenset({' Male', ' Private'}), confidence=0.4736180904522613, lift=1.0229332407176268), OrderedStatistic(items_base=frozenset({' Male', ' United-States', ' Private'}), items_add=frozenset({' White'}), confidence=0.9128329297820824, lift=1.0639078435688607), OrderedStatistic(items_base=frozenset({' White', ' Male', ' Private'}), items_add=frozenset({' United-States'}), confidence=0.9150485436893204, lift=1.0111033631926192), OrderedStatistic(items_base=frozenset({' Male', ' United-States', ' White'}), items_add=frozenset({' Private'}), confidence=0.6930147058823529, lift=0.9928577448171246), OrderedStatistic(items_base=frozenset({' White', ' United-States', ' Private'}), items_add=frozenset({' Male'}), confidence=0.6708185053380782, lift=1.0072349930001174)]),\n",
              " RelationRecord(items=frozenset({' Husband', ' White', ' Male', ' Married-civ-spouse', ' United-States'}), support=0.337, ordered_statistics=[OrderedStatistic(items_base=frozenset(), items_add=frozenset({' Husband', ' Male', ' Married-civ-spouse', ' White', ' United-States'}), confidence=0.337, lift=1.0), OrderedStatistic(items_base=frozenset({' Husband'}), items_add=frozenset({' Male', ' United-States', ' White', ' Married-civ-spouse'}), confidence=0.8531645569620253, lift=2.5167096075575968), OrderedStatistic(items_base=frozenset({' Male'}), items_add=frozenset({' Husband', ' United-States', ' White', ' Married-civ-spouse'}), confidence=0.506006006006006, lift=1.5015015015015014), OrderedStatistic(items_base=frozenset({' Married-civ-spouse'}), items_add=frozenset({' Husband', ' United-States', ' Male', ' White'}), confidence=0.7539149888143177, lift=2.237136465324385), OrderedStatistic(items_base=frozenset({' United-States'}), items_add=frozenset({' Husband', ' Male', ' White', ' Married-civ-spouse'}), confidence=0.37237569060773484, lift=1.0548886419482575), OrderedStatistic(items_base=frozenset({' White'}), items_add=frozenset({' Husband', ' United-States', ' Male', ' Married-civ-spouse'}), confidence=0.3927738927738928, lift=1.085010753519041), OrderedStatistic(items_base=frozenset({' Husband', ' Male'}), items_add=frozenset({' Married-civ-spouse', ' United-States', ' White'}), confidence=0.8531645569620253, lift=2.2570490924921303), OrderedStatistic(items_base=frozenset({' Husband', ' Married-civ-spouse'}), items_add=frozenset({' Male', ' United-States', ' White'}), confidence=0.8531645569620253, lift=1.5683172002978405), OrderedStatistic(items_base=frozenset({' Husband', ' United-States'}), items_add=frozenset({' Male', ' White', ' Married-civ-spouse'}), confidence=0.9309392265193371, lift=2.6076729034155104), OrderedStatistic(items_base=frozenset({' Husband', ' White'}), items_add=frozenset({' Male', ' United-States', ' Married-civ-spouse'}), confidence=0.9546742209631729, lift=2.622731376272453), OrderedStatistic(items_base=frozenset({' Male', ' Married-civ-spouse'}), items_add=frozenset({' Husband', ' United-States', ' White'}), confidence=0.8425, lift=2.5), OrderedStatistic(items_base=frozenset({' Male', ' United-States'}), items_add=frozenset({' Husband', ' White', ' Married-civ-spouse'}), confidence=0.5616666666666668, lift=1.5911237016052884), OrderedStatistic(items_base=frozenset({' Male', ' White'}), items_add=frozenset({' Husband', ' United-States', ' Married-civ-spouse'}), confidence=0.5741056218057923, lift=1.5859271320601998), OrderedStatistic(items_base=frozenset({' Married-civ-spouse', ' United-States'}), items_add=frozenset({' Husband', ' Male', ' White'}), confidence=0.8320987654320988, lift=2.357220298674501), OrderedStatistic(items_base=frozenset({' Married-civ-spouse', ' White'}), items_add=frozenset({' Husband', ' United-States', ' Male'}), confidence=0.8446115288220551, lift=2.3331810188454565), OrderedStatistic(items_base=frozenset({' United-States', ' White'}), items_add=frozenset({' Husband', ' Male', ' Married-civ-spouse'}), confidence=0.4233668341708543, lift=1.0718147700527956), OrderedStatistic(items_base=frozenset({' Husband', ' Male', ' Married-civ-spouse'}), items_add=frozenset({' United-States', ' White'}), confidence=0.8531645569620253, lift=1.0718147700527956), OrderedStatistic(items_base=frozenset({' Husband', ' United-States', ' Male'}), items_add=frozenset({' Married-civ-spouse', ' White'}), confidence=0.9309392265193371, lift=2.3331810188454565), OrderedStatistic(items_base=frozenset({' Husband', ' Male', ' White'}), items_add=frozenset({' Married-civ-spouse', ' United-States'}), confidence=0.9546742209631729, lift=2.357220298674501), OrderedStatistic(items_base=frozenset({' Husband', ' United-States', ' Married-civ-spouse'}), items_add=frozenset({' Male', ' White'}), confidence=0.9309392265193371, lift=1.5859271320601998), OrderedStatistic(items_base=frozenset({' White', ' Husband', ' Married-civ-spouse'}), items_add=frozenset({' Male', ' United-States'}), confidence=0.9546742209631729, lift=1.5911237016052882), OrderedStatistic(items_base=frozenset({' Husband', ' United-States', ' White'}), items_add=frozenset({' Male', ' Married-civ-spouse'}), confidence=1.0, lift=2.5), OrderedStatistic(items_base=frozenset({' Male', ' United-States', ' Married-civ-spouse'}), items_add=frozenset({' Husband', ' White'}), confidence=0.9258241758241759, lift=2.622731376272453), OrderedStatistic(items_base=frozenset({' White', ' Male', ' Married-civ-spouse'}), items_add=frozenset({' Husband', ' United-States'}), confidence=0.9439775910364147, lift=2.6076729034155104), OrderedStatistic(items_base=frozenset({' Male', ' United-States', ' White'}), items_add=frozenset({' Husband', ' Married-civ-spouse'}), confidence=0.6194852941176471, lift=1.5683172002978407), OrderedStatistic(items_base=frozenset({' Married-civ-spouse', ' United-States', ' White'}), items_add=frozenset({' Husband', ' Male'}), confidence=0.8915343915343916, lift=2.2570490924921307), OrderedStatistic(items_base=frozenset({' Husband', ' United-States', ' Male', ' Married-civ-spouse'}), items_add=frozenset({' White'}), confidence=0.9309392265193371, lift=1.085010753519041), OrderedStatistic(items_base=frozenset({' White', ' Husband', ' Male', ' Married-civ-spouse'}), items_add=frozenset({' United-States'}), confidence=0.9546742209631729, lift=1.0548886419482573), OrderedStatistic(items_base=frozenset({' Husband', ' United-States', ' Male', ' White'}), items_add=frozenset({' Married-civ-spouse'}), confidence=1.0, lift=2.237136465324385), OrderedStatistic(items_base=frozenset({' White', ' Husband', ' United-States', ' Married-civ-spouse'}), items_add=frozenset({' Male'}), confidence=1.0, lift=1.5015015015015014), OrderedStatistic(items_base=frozenset({' White', ' Male', ' United-States', ' Married-civ-spouse'}), items_add=frozenset({' Husband'}), confidence=0.9941002949852508, lift=2.5167096075575968)])]"
            ]
          },
          "metadata": {
            "tags": []
          },
          "execution_count": 44
        }
      ]
    }
  ]
}