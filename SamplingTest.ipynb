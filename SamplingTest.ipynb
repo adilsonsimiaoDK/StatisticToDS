{
  "nbformat": 4,
  "nbformat_minor": 0,
  "metadata": {
    "colab": {
      "name": "SamplingTest.ipynb",
      "provenance": [],
      "toc_visible": true,
      "authorship_tag": "ABX9TyMbozMFRFjkjUiVnvAYo/Do"
    },
    "kernelspec": {
      "name": "python3",
      "display_name": "Python 3"
    }
  },
  "cells": [
    {
      "cell_type": "markdown",
      "metadata": {
        "id": "jvekJKrNK2EK"
      },
      "source": [
        "# Hello, this a test of sampling with foccus in data analysis.\n",
        "\n",
        "\n"
      ]
    },
    {
      "cell_type": "code",
      "metadata": {
        "id": "5-sMg_OLI02I"
      },
      "source": [
        "import pandas as pd\n",
        "import numpy as np\n",
        "import random"
      ],
      "execution_count": null,
      "outputs": []
    },
    {
      "cell_type": "code",
      "metadata": {
        "colab": {
          "base_uri": "https://localhost:8080/",
          "height": 204
        },
        "id": "QDdjIA_lJgSM",
        "outputId": "da6629b9-677b-4c67-df76-f4b128a600b2"
      },
      "source": [
        "dataset.head().T"
      ],
      "execution_count": null,
      "outputs": [
        {
          "output_type": "execute_result",
          "data": {
            "text/html": [
              "<div>\n",
              "<style scoped>\n",
              "    .dataframe tbody tr th:only-of-type {\n",
              "        vertical-align: middle;\n",
              "    }\n",
              "\n",
              "    .dataframe tbody tr th {\n",
              "        vertical-align: top;\n",
              "    }\n",
              "\n",
              "    .dataframe thead th {\n",
              "        text-align: right;\n",
              "    }\n",
              "</style>\n",
              "<table border=\"1\" class=\"dataframe\">\n",
              "  <thead>\n",
              "    <tr style=\"text-align: right;\">\n",
              "      <th></th>\n",
              "      <th>0</th>\n",
              "      <th>1</th>\n",
              "      <th>2</th>\n",
              "      <th>3</th>\n",
              "      <th>4</th>\n",
              "    </tr>\n",
              "  </thead>\n",
              "  <tbody>\n",
              "    <tr>\n",
              "      <th>i#clientid</th>\n",
              "      <td>1.000000</td>\n",
              "      <td>2.000000</td>\n",
              "      <td>3.000000</td>\n",
              "      <td>4.000000</td>\n",
              "      <td>5.000000</td>\n",
              "    </tr>\n",
              "    <tr>\n",
              "      <th>income</th>\n",
              "      <td>66155.925095</td>\n",
              "      <td>34415.153966</td>\n",
              "      <td>57317.170063</td>\n",
              "      <td>42709.534201</td>\n",
              "      <td>66952.688845</td>\n",
              "    </tr>\n",
              "    <tr>\n",
              "      <th>age</th>\n",
              "      <td>59.017015</td>\n",
              "      <td>48.117153</td>\n",
              "      <td>63.108049</td>\n",
              "      <td>45.751972</td>\n",
              "      <td>18.584336</td>\n",
              "    </tr>\n",
              "    <tr>\n",
              "      <th>loan</th>\n",
              "      <td>8106.532131</td>\n",
              "      <td>6564.745018</td>\n",
              "      <td>8020.953296</td>\n",
              "      <td>6103.642260</td>\n",
              "      <td>8770.099235</td>\n",
              "    </tr>\n",
              "    <tr>\n",
              "      <th>c#default</th>\n",
              "      <td>0.000000</td>\n",
              "      <td>0.000000</td>\n",
              "      <td>0.000000</td>\n",
              "      <td>0.000000</td>\n",
              "      <td>1.000000</td>\n",
              "    </tr>\n",
              "  </tbody>\n",
              "</table>\n",
              "</div>"
            ],
            "text/plain": [
              "                       0             1  ...             3             4\n",
              "i#clientid      1.000000      2.000000  ...      4.000000      5.000000\n",
              "income      66155.925095  34415.153966  ...  42709.534201  66952.688845\n",
              "age            59.017015     48.117153  ...     45.751972     18.584336\n",
              "loan         8106.532131   6564.745018  ...   6103.642260   8770.099235\n",
              "c#default       0.000000      0.000000  ...      0.000000      1.000000\n",
              "\n",
              "[5 rows x 5 columns]"
            ]
          },
          "metadata": {
            "tags": []
          },
          "execution_count": 8
        }
      ]
    },
    {
      "cell_type": "code",
      "metadata": {
        "colab": {
          "base_uri": "https://localhost:8080/",
          "height": 142
        },
        "id": "ixACmQWvfko2",
        "outputId": "e40aee5d-e61a-43a1-86fc-65eb7d8f46f0"
      },
      "source": [
        "df = pd.DataFrame(dataset[['i#clientid', 'income', 'loan']])\n",
        "df.head(5).T"
      ],
      "execution_count": null,
      "outputs": [
        {
          "output_type": "execute_result",
          "data": {
            "text/html": [
              "<div>\n",
              "<style scoped>\n",
              "    .dataframe tbody tr th:only-of-type {\n",
              "        vertical-align: middle;\n",
              "    }\n",
              "\n",
              "    .dataframe tbody tr th {\n",
              "        vertical-align: top;\n",
              "    }\n",
              "\n",
              "    .dataframe thead th {\n",
              "        text-align: right;\n",
              "    }\n",
              "</style>\n",
              "<table border=\"1\" class=\"dataframe\">\n",
              "  <thead>\n",
              "    <tr style=\"text-align: right;\">\n",
              "      <th></th>\n",
              "      <th>0</th>\n",
              "      <th>1</th>\n",
              "      <th>2</th>\n",
              "      <th>3</th>\n",
              "      <th>4</th>\n",
              "    </tr>\n",
              "  </thead>\n",
              "  <tbody>\n",
              "    <tr>\n",
              "      <th>i#clientid</th>\n",
              "      <td>1.000000</td>\n",
              "      <td>2.000000</td>\n",
              "      <td>3.000000</td>\n",
              "      <td>4.000000</td>\n",
              "      <td>5.000000</td>\n",
              "    </tr>\n",
              "    <tr>\n",
              "      <th>income</th>\n",
              "      <td>66155.925095</td>\n",
              "      <td>34415.153966</td>\n",
              "      <td>57317.170063</td>\n",
              "      <td>42709.534201</td>\n",
              "      <td>66952.688845</td>\n",
              "    </tr>\n",
              "    <tr>\n",
              "      <th>loan</th>\n",
              "      <td>8106.532131</td>\n",
              "      <td>6564.745018</td>\n",
              "      <td>8020.953296</td>\n",
              "      <td>6103.642260</td>\n",
              "      <td>8770.099235</td>\n",
              "    </tr>\n",
              "  </tbody>\n",
              "</table>\n",
              "</div>"
            ],
            "text/plain": [
              "                       0             1  ...             3             4\n",
              "i#clientid      1.000000      2.000000  ...      4.000000      5.000000\n",
              "income      66155.925095  34415.153966  ...  42709.534201  66952.688845\n",
              "loan         8106.532131   6564.745018  ...   6103.642260   8770.099235\n",
              "\n",
              "[3 rows x 5 columns]"
            ]
          },
          "metadata": {
            "tags": []
          },
          "execution_count": 54
        }
      ]
    },
    {
      "cell_type": "code",
      "metadata": {
        "id": "xImY7vLbIrvG"
      },
      "source": [
        "dataset = pd.read_csv('credit_data.csv')"
      ],
      "execution_count": null,
      "outputs": []
    },
    {
      "cell_type": "code",
      "metadata": {
        "id": "ApJNWmwuJ9Vv"
      },
      "source": [
        "def sample_random_simple(dataset, sample):\n",
        "  sample_result = dataset.sample(n=sample, random_state=1)\n",
        "  return sample_result\n",
        "  "
      ],
      "execution_count": null,
      "outputs": []
    },
    {
      "cell_type": "code",
      "metadata": {
        "colab": {
          "base_uri": "https://localhost:8080/"
        },
        "id": "eSoA88fQL9L8",
        "outputId": "1d1a6a73-de7f-4551-8672-a8fab2cbed04"
      },
      "source": [
        "df_srs = sample_random_simple(dataset, 1000)\n",
        "df_srs['age'].mean()"
      ],
      "execution_count": null,
      "outputs": [
        {
          "output_type": "execute_result",
          "data": {
            "text/plain": [
              "40.49552561124429"
            ]
          },
          "metadata": {
            "tags": []
          },
          "execution_count": 14
        }
      ]
    },
    {
      "cell_type": "code",
      "metadata": {
        "id": "E-y9vA-RODVD"
      },
      "source": [
        "def systematic_Sampling(dataset, sample):\n",
        "  value = []\n",
        "  interval = len(dataset)//sample \n",
        "  random_Sample = random.seed(1)\n",
        "  first = random.randint(0, interval)\n",
        "  index = np.arange(first, len(dataset), step=interval)\n",
        "  df_syst_sa = dataset.iloc[index]\n",
        "  return df_syst_sa\n"
      ],
      "execution_count": null,
      "outputs": []
    },
    {
      "cell_type": "code",
      "metadata": {
        "colab": {
          "base_uri": "https://localhost:8080/"
        },
        "id": "S0LCK7KfQGqS",
        "outputId": "e4d42f05-654a-4e46-946f-9ba1dc6903fc"
      },
      "source": [
        " interval = systematic_Sampling(dataset, 1000)\n",
        " interval.loan.mean()"
      ],
      "execution_count": null,
      "outputs": [
        {
          "output_type": "execute_result",
          "data": {
            "text/plain": [
              "4506.787976426329"
            ]
          },
          "metadata": {
            "tags": []
          },
          "execution_count": 34
        }
      ]
    },
    {
      "cell_type": "code",
      "metadata": {
        "id": "-MCCCX9dXbwz"
      },
      "source": [
        "def cluster_sampling(dataset, sample):\n",
        "  group = []\n",
        "  group_id = 0 \n",
        "  count = 0 \n",
        "  interval = dataset / sample\n",
        "  random.seed(1)\n",
        "  for _ in dataset.iterrows():\n",
        "    count += 1 \n",
        "    group.append(group_id)\n",
        "    if cont > interval:\n",
        "      count = 0 \n",
        "      group_id = 1\n",
        "      dataset['group'] = group\n",
        "      selected_group = random.randint(0, number_group)\n",
        "  return dataset[dataset['group']== selected_group]\n"
      ],
      "execution_count": null,
      "outputs": []
    },
    {
      "cell_type": "code",
      "metadata": {
        "id": "PuARN0YnlspE"
      },
      "source": [
        "def stratified_Sampling(dataset, percent):\n",
        "  split  = StratifiedShuffleSplit(test_size=percent, random_state=1)\n",
        "  for _, y in split.split(dataset, dataset['c#default']):\n",
        "    df_y =dataset.iloc[y]\n",
        "  return df_y\n",
        "\n",
        "\n"
      ],
      "execution_count": null,
      "outputs": []
    },
    {
      "cell_type": "code",
      "metadata": {
        "id": "ww8p7hNemiLo"
      },
      "source": [
        "def reservatory_sampling(dataset, sample):\n",
        "    stream = []\n",
        "    for i in range(len(dataset)):\n",
        "        stream.append(i)\n",
        "        \n",
        "    i = 0 \n",
        "    size = len(dataset)\n",
        "    reservatory = [0] * sample\n",
        "    for p in range(sample):\n",
        "        reservatory[p] = stream[i]\n",
        "    while i < size:\n",
        "        j = random.randrange(i + 1)\n",
        "        if j < sample:\n",
        "            reservatory[j] =stream[i]\n",
        "            i+=1\n",
        "            return dataset.iloc[reservatory]\n",
        "\n",
        "df_reservatory_sampling = reservatory_sampling(dataset, 1000)\n",
        "print(df_reservatory_sampling.shape)"
      ],
      "execution_count": null,
      "outputs": []
    },
    {
      "cell_type": "code",
      "metadata": {
        "id": "yC_bpWeLcCIA"
      },
      "source": [
        "def sampling_reservatory(dataset, sample):\n",
        "  stream = []\n",
        "  for i in range(len(dataset)):\n",
        "    stream.append(i)\n",
        "  i = 0\n",
        "  size = len(dataset)\n",
        "\n",
        "  reservatory = [0] * sample\n",
        "  for i in range(amostras):\n",
        "    reservatory[i] = stream[i]\n",
        "\n",
        "  while i < tamanho:\n",
        "    j = random.randrange(i + 1)\n",
        "    if j < sample:\n",
        "      reservatory[j] = stream[i]\n",
        "    i += 1\n",
        "\n",
        "  return dataset.iloc[reservatory]\n",
        "  "
      ],
      "execution_count": null,
      "outputs": []
    }
  ]
}