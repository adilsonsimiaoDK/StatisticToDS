{
  "nbformat": 4,
  "nbformat_minor": 0,
  "metadata": {
    "colab": {
      "name": "sampling.ipynb",
      "provenance": [],
      "toc_visible": true,
      "authorship_tag": "ABX9TyNJZ5Xjw4G85KoBRrjUaDNV",
      "include_colab_link": true
    },
    "kernelspec": {
      "name": "python3",
      "display_name": "Python 3"
    }
  },
  "cells": [
    {
      "cell_type": "markdown",
      "metadata": {
        "id": "view-in-github",
        "colab_type": "text"
      },
      "source": [
        "<a href=\"https://colab.research.google.com/github/adilsonsimiaoDK/StatisticToDS/blob/main/sampling.ipynb\" target=\"_parent\"><img src=\"https://colab.research.google.com/assets/colab-badge.svg\" alt=\"Open In Colab\"/></a>"
      ]
    },
    {
      "cell_type": "code",
      "metadata": {
        "id": "6VcDaBiTgcRG"
      },
      "source": [
        "import pandas as pd\n",
        "import random\n",
        "import numpy as np\n"
      ],
      "execution_count": 37,
      "outputs": []
    },
    {
      "cell_type": "code",
      "metadata": {
        "id": "iIZeNEwXk92z"
      },
      "source": [
        "dataset = pd.read_csv('census.csv')"
      ],
      "execution_count": 38,
      "outputs": []
    },
    {
      "cell_type": "code",
      "metadata": {
        "colab": {
          "base_uri": "https://localhost:8080/"
        },
        "id": "kW9fcGEqmlL1",
        "outputId": "c48839f6-3e54-4923-c95f-737b1ab3f3a6"
      },
      "source": [
        "dataset.shape"
      ],
      "execution_count": 3,
      "outputs": [
        {
          "output_type": "execute_result",
          "data": {
            "text/plain": [
              "(32561, 15)"
            ]
          },
          "metadata": {
            "tags": []
          },
          "execution_count": 3
        }
      ]
    },
    {
      "cell_type": "markdown",
      "metadata": {
        "id": "iAFVwPZWnaYe"
      },
      "source": [
        "Simple Random Sampling: \n",
        "Simple randon sampling you have select value of sampling that you define to work in my case I decided n = 100 value random, the function(sample of library pandas) return 100 values random,  if you want to work always with the same values config random_state=1."
      ]
    },
    {
      "cell_type": "code",
      "metadata": {
        "colab": {
          "base_uri": "https://localhost:8080/",
          "height": 343
        },
        "id": "TolKM6Wsm5fu",
        "outputId": "10383c8a-0072-4761-8475-4f13b6a9a89c"
      },
      "source": [
        "dataset.tail()"
      ],
      "execution_count": 5,
      "outputs": [
        {
          "output_type": "execute_result",
          "data": {
            "text/html": [
              "<div>\n",
              "<style scoped>\n",
              "    .dataframe tbody tr th:only-of-type {\n",
              "        vertical-align: middle;\n",
              "    }\n",
              "\n",
              "    .dataframe tbody tr th {\n",
              "        vertical-align: top;\n",
              "    }\n",
              "\n",
              "    .dataframe thead th {\n",
              "        text-align: right;\n",
              "    }\n",
              "</style>\n",
              "<table border=\"1\" class=\"dataframe\">\n",
              "  <thead>\n",
              "    <tr style=\"text-align: right;\">\n",
              "      <th></th>\n",
              "      <th>age</th>\n",
              "      <th>workclass</th>\n",
              "      <th>final-weight</th>\n",
              "      <th>education</th>\n",
              "      <th>education-num</th>\n",
              "      <th>marital-status</th>\n",
              "      <th>occupation</th>\n",
              "      <th>relationship</th>\n",
              "      <th>race</th>\n",
              "      <th>sex</th>\n",
              "      <th>capital-gain</th>\n",
              "      <th>capital-loos</th>\n",
              "      <th>hour-per-week</th>\n",
              "      <th>native-country</th>\n",
              "      <th>income</th>\n",
              "    </tr>\n",
              "  </thead>\n",
              "  <tbody>\n",
              "    <tr>\n",
              "      <th>32556</th>\n",
              "      <td>27</td>\n",
              "      <td>Private</td>\n",
              "      <td>257302</td>\n",
              "      <td>Assoc-acdm</td>\n",
              "      <td>12</td>\n",
              "      <td>Married-civ-spouse</td>\n",
              "      <td>Tech-support</td>\n",
              "      <td>Wife</td>\n",
              "      <td>White</td>\n",
              "      <td>Female</td>\n",
              "      <td>0</td>\n",
              "      <td>0</td>\n",
              "      <td>38</td>\n",
              "      <td>United-States</td>\n",
              "      <td>&lt;=50K</td>\n",
              "    </tr>\n",
              "    <tr>\n",
              "      <th>32557</th>\n",
              "      <td>40</td>\n",
              "      <td>Private</td>\n",
              "      <td>154374</td>\n",
              "      <td>HS-grad</td>\n",
              "      <td>9</td>\n",
              "      <td>Married-civ-spouse</td>\n",
              "      <td>Machine-op-inspct</td>\n",
              "      <td>Husband</td>\n",
              "      <td>White</td>\n",
              "      <td>Male</td>\n",
              "      <td>0</td>\n",
              "      <td>0</td>\n",
              "      <td>40</td>\n",
              "      <td>United-States</td>\n",
              "      <td>&gt;50K</td>\n",
              "    </tr>\n",
              "    <tr>\n",
              "      <th>32558</th>\n",
              "      <td>58</td>\n",
              "      <td>Private</td>\n",
              "      <td>151910</td>\n",
              "      <td>HS-grad</td>\n",
              "      <td>9</td>\n",
              "      <td>Widowed</td>\n",
              "      <td>Adm-clerical</td>\n",
              "      <td>Unmarried</td>\n",
              "      <td>White</td>\n",
              "      <td>Female</td>\n",
              "      <td>0</td>\n",
              "      <td>0</td>\n",
              "      <td>40</td>\n",
              "      <td>United-States</td>\n",
              "      <td>&lt;=50K</td>\n",
              "    </tr>\n",
              "    <tr>\n",
              "      <th>32559</th>\n",
              "      <td>22</td>\n",
              "      <td>Private</td>\n",
              "      <td>201490</td>\n",
              "      <td>HS-grad</td>\n",
              "      <td>9</td>\n",
              "      <td>Never-married</td>\n",
              "      <td>Adm-clerical</td>\n",
              "      <td>Own-child</td>\n",
              "      <td>White</td>\n",
              "      <td>Male</td>\n",
              "      <td>0</td>\n",
              "      <td>0</td>\n",
              "      <td>20</td>\n",
              "      <td>United-States</td>\n",
              "      <td>&lt;=50K</td>\n",
              "    </tr>\n",
              "    <tr>\n",
              "      <th>32560</th>\n",
              "      <td>52</td>\n",
              "      <td>Self-emp-inc</td>\n",
              "      <td>287927</td>\n",
              "      <td>HS-grad</td>\n",
              "      <td>9</td>\n",
              "      <td>Married-civ-spouse</td>\n",
              "      <td>Exec-managerial</td>\n",
              "      <td>Wife</td>\n",
              "      <td>White</td>\n",
              "      <td>Female</td>\n",
              "      <td>15024</td>\n",
              "      <td>0</td>\n",
              "      <td>40</td>\n",
              "      <td>United-States</td>\n",
              "      <td>&gt;50K</td>\n",
              "    </tr>\n",
              "  </tbody>\n",
              "</table>\n",
              "</div>"
            ],
            "text/plain": [
              "       age      workclass  final-weight  ... hour-per-week  native-country  income\n",
              "32556   27        Private        257302  ...            38   United-States   <=50K\n",
              "32557   40        Private        154374  ...            40   United-States    >50K\n",
              "32558   58        Private        151910  ...            40   United-States   <=50K\n",
              "32559   22        Private        201490  ...            20   United-States   <=50K\n",
              "32560   52   Self-emp-inc        287927  ...            40   United-States    >50K\n",
              "\n",
              "[5 rows x 15 columns]"
            ]
          },
          "metadata": {
            "tags": []
          },
          "execution_count": 5
        }
      ]
    },
    {
      "cell_type": "code",
      "metadata": {
        "id": "MwmVdWcFn8JB"
      },
      "source": [
        "df_srs = dataset.sample(n=100, random_state=1)\n"
      ],
      "execution_count": 39,
      "outputs": []
    },
    {
      "cell_type": "code",
      "metadata": {
        "id": "r6UQxEyVYSpO"
      },
      "source": [
        "df_srs.head(10)"
      ],
      "execution_count": null,
      "outputs": []
    },
    {
      "cell_type": "code",
      "metadata": {
        "id": "swT0YEnfrVsv"
      },
      "source": [
        "def simple_random_sampling(dataset, sampling):\n",
        "  return dataset.sample(n=sampling) "
      ],
      "execution_count": 24,
      "outputs": []
    },
    {
      "cell_type": "code",
      "metadata": {
        "colab": {
          "base_uri": "https://localhost:8080/"
        },
        "id": "ptonZTHqsVVr",
        "outputId": "df621f1d-74aa-44bf-8fd4-8aa921449a83"
      },
      "source": [
        "df_srs = simple_random_sampling(dataset, 100)\n",
        "df_srs.shape"
      ],
      "execution_count": 25,
      "outputs": [
        {
          "output_type": "execute_result",
          "data": {
            "text/plain": [
              "(100, 15)"
            ]
          },
          "metadata": {
            "tags": []
          },
          "execution_count": 25
        }
      ]
    },
    {
      "cell_type": "markdown",
      "metadata": {
        "id": "PElQ6mUp0GMh"
      },
      "source": [
        "Systematic Sampling: \n",
        "\n",
        "1.   You have to get total rows with function shape of your dataset and divedid by number of sampling that you wan to work eg: my dataset has rows 32561, columns 15, you must get rows dataset/sampling or 32561//100 = 325 it will return a number int.\n",
        "2. Yo must choose a value random 0 up to dataset in 325  \n",
        "\n"
      ]
    },
    {
      "cell_type": "code",
      "metadata": {
        "id": "OOp04qMJ9Q8d"
      },
      "source": [
        "\n",
        "def systematicsampling(dataset, sampling):\n",
        "  interval = len(dataset)//sampling\n",
        "  random.seed(1)  \n",
        "  valueF = random.randint(0, interval)\n",
        "  indices = np.arange(valueF, len(dataset), step=interval)\n",
        "  systematic_sampling = dataset.iloc[indices]\n",
        "  return systematic_sampling\n",
        "\n"
      ],
      "execution_count": 34,
      "outputs": []
    },
    {
      "cell_type": "code",
      "metadata": {
        "id": "FKrBYWWeEohE"
      },
      "source": [
        "print(systematicsampling(df_srs,100))"
      ],
      "execution_count": null,
      "outputs": []
    },
    {
      "cell_type": "markdown",
      "metadata": {
        "id": "7JjUJY_sJZ9j"
      },
      "source": [
        "Cluster for Sampling:\n",
        "1. You have divide the dataset by number de sampling after that will be created groups that you should identify for id, \n",
        "2. command used: np.unique(group, return_counts=True) return the values not duplicate and count of element in each group.\n"
      ]
    },
    {
      "cell_type": "code",
      "metadata": {
        "id": "GXXrfEKyQK_r"
      },
      "source": [
        "def cluster_sampling(dataset, number_group):\n",
        "  group = []\n",
        "  group_id = 0\n",
        "  count = 0\n",
        "  interval = len(dataset)/number_group\n",
        "  for _ in dataset.iterrows():\n",
        "      group.append(group_id)\n",
        "      count += 1 \n",
        "      if count > interval:\n",
        "        count = 0\n",
        "        group_id +=1\n",
        "  dataset['group'] = group\n",
        "  selected_group = random.randint(0, number_group)\n",
        "  return dataset[dataset['group']== selected_group]\n",
        "  \n"
      ],
      "execution_count": 40,
      "outputs": []
    },
    {
      "cell_type": "code",
      "metadata": {
        "colab": {
          "base_uri": "https://localhost:8080/"
        },
        "id": "n20FVLybeES5",
        "outputId": "d6d4411f-cd0e-46a7-a29a-11b44eb8d113"
      },
      "source": [
        "group_sampling = cluster_sampling(dataset, 10)\n",
        "group_sampling.shape, group_sampling.group.value_counts()\n",
        "print(group_sampling)"
      ],
      "execution_count": 50,
      "outputs": [
        {
          "output_type": "stream",
          "text": [
            "       age          workclass  final-weight  ...  native-country  income group\n",
            "13028   56            Private         98418  ...   United-States   <=50K     4\n",
            "13029   30            Private        381153  ...   United-States   <=50K     4\n",
            "13030   54            Private        103700  ...   United-States   <=50K     4\n",
            "13031   35            Private        298635  ...   United-States   <=50K     4\n",
            "13032   32            Private        127895  ...   United-States   <=50K     4\n",
            "...    ...                ...           ...  ...             ...     ...   ...\n",
            "16280   27            Private        187981  ...   United-States   <=50K     4\n",
            "16281   55            Private        393768  ...   United-States   <=50K     4\n",
            "16282   38            Private        108726  ...   United-States    >50K     4\n",
            "16283   31            Private        180551  ...   United-States    >50K     4\n",
            "16284   51   Self-emp-not-inc        176240  ...   United-States    >50K     4\n",
            "\n",
            "[3257 rows x 16 columns]\n"
          ],
          "name": "stdout"
        }
      ]
    },
    {
      "cell_type": "code",
      "metadata": {
        "id": "9KUhYBt2eWwp"
      },
      "source": [
        ""
      ],
      "execution_count": null,
      "outputs": []
    }
  ]
}